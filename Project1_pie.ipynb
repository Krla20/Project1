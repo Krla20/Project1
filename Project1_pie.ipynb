{
 "cells": [
  {
   "cell_type": "markdown",
   "metadata": {},
   "source": [
    "# Project 1 - Major League Baseball Analysis"
   ]
  },
  {
   "cell_type": "code",
   "execution_count": 1,
   "metadata": {},
   "outputs": [],
   "source": [
    "#PROJECT SCOPE:\n",
    "\n",
    "#Question 1 - How does the spending of each champion compare to the rest of the league?\n",
    "#Objective 1 - Collect the salary spent for the world series champions by year\n",
    "#Objective 2 - Collect the average salary spent for the losers by year\n",
    "#Objective 3 - Summary DF and Graph comparing objective 1 and objective 2\n",
    "\n",
    "#---------------------------------------------------------------------------------\n",
    "\n",
    "#Question 2 - What are the guiding parameters for salary spent for winning teams?\n",
    "#Objective 1 - Find the mean and STD for the salaries per year for the entire league\n",
    "#Objective 2 - Calculate the number of STD's the winning salary deviates from the mean by year\n",
    "#Objective 3 - Summary DF and Graph Objective 2\n",
    "\n",
    "#----------------------------------------------------------------------------------\n",
    "\n",
    "#Question 3 - Do the teams that spend the most, win the most?\n",
    "#Objective 1 - Find the top 5 teams in salary spent per year\n",
    "#Objective 2 - Find out how many times teams with a top 5 salary spent won the championship by year\n",
    "#Objective 3 - Calculate the percentage of times a top 5 salary spent team won the championship\n",
    "\n",
    "#----------------------------------------------------------------------------------\n",
    "\n",
    "#Question 4 - Are there any commonalities between championship teams?\n",
    "#Objective 1 - Summary DF of all World Series Champions statistics\n",
    "#Objective 2 - Statisical Analysis on that Dataframe (mean of statistical categories)\n",
    "#Objective 3 - Develop a statistical profile for a typical world series champion"
   ]
  },
  {
   "cell_type": "code",
   "execution_count": 2,
   "metadata": {},
   "outputs": [],
   "source": [
    "#Import Dependencies\n",
    "import matplotlib.pyplot as plt\n",
    "import pandas as pd\n",
    "import scipy.stats as st\n",
    "import numpy as np\n",
    "from matplotlib.ticker import StrMethodFormatter\n",
    "import matplotlib.ticker as tkr\n",
    "import matplotlib as mpl\n",
    "import seaborn as sns\n",
    "%matplotlib inline\n",
    "from numpy import array"
   ]
  },
  {
   "cell_type": "markdown",
   "metadata": {},
   "source": [
    "## Gathering and Organizing Data"
   ]
  },
  {
   "cell_type": "code",
   "execution_count": 3,
   "metadata": {},
   "outputs": [],
   "source": [
    "#CSV Read Ins from Kaggle Website\n",
    "\n",
    "#Teams File - Convert to DataFrame\n",
    "teams_filepath = \"Resources/Teams.csv\"\n",
    "teams_df = pd.read_csv(teams_filepath)\n",
    "\n",
    "#Salary File - COnvert to DataFrame\n",
    "salary_csvpath = \"Resources/Salaries.csv\"\n",
    "salary_df = pd.read_csv(salary_csvpath)"
   ]
  },
  {
   "cell_type": "code",
   "execution_count": 4,
   "metadata": {},
   "outputs": [],
   "source": [
    "#Dataframe Cleanup - Preparing Dataframes to Analyze\n",
    "\n",
    "#Teams CSV - Organize Columns, Drop Years Prior to 1985\n",
    "teams_df = teams_df[[\"name\", \"teamID\", \"yearID\", \"WSWin\", \"G\", \"W\", \"L\", \"R\", \"AB\", \"H\", \"2B\", \"3B\", \"HR\", \"BB\", \"SO\", \"SB\", \"ER\", \"ERA\", \"CG\", \"E\"]]\n",
    "teams_df = teams_df.loc[teams_df[\"yearID\"] > 1984]\n",
    "\n",
    "#Salary CSV - Group Salary Dataframe by YearID & TeamID, retrieve sum\n",
    "salary_year = salary_df.groupby(by=['yearID','teamID'])['salary'].sum()\n",
    "salary_df = pd.DataFrame(salary_year)"
   ]
  },
  {
   "cell_type": "code",
   "execution_count": 5,
   "metadata": {},
   "outputs": [],
   "source": [
    "#Get Stats Data for the Winners & Losers of the World Series\n",
    "ws_winners_df = pd.DataFrame(teams_df.loc[(teams_df[\"WSWin\"] == \"Y\")])\n",
    "ws_losers_df = pd.DataFrame(teams_df.loc[(teams_df[\"WSWin\"] == \"N\")])"
   ]
  },
  {
   "cell_type": "code",
   "execution_count": 6,
   "metadata": {},
   "outputs": [],
   "source": [
    "#Merge Dataframes to get Stats Data and Salary Data in one dataframe\n",
    "combined_allteams_df = pd.merge(teams_df, salary_df, on=[\"yearID\", \"teamID\"])\n",
    "combined_wswinners_df = pd.merge(ws_winners_df, salary_df, on=[\"yearID\", \"teamID\"])\n",
    "combined_wslosers_df = pd.merge(ws_losers_df, salary_df, on=[\"yearID\", \"teamID\"])"
   ]
  },
  {
   "cell_type": "code",
   "execution_count": 7,
   "metadata": {},
   "outputs": [
    {
     "data": {
      "text/html": [
       "<div>\n",
       "<style scoped>\n",
       "    .dataframe tbody tr th:only-of-type {\n",
       "        vertical-align: middle;\n",
       "    }\n",
       "\n",
       "    .dataframe tbody tr th {\n",
       "        vertical-align: top;\n",
       "    }\n",
       "\n",
       "    .dataframe thead th {\n",
       "        text-align: right;\n",
       "    }\n",
       "</style>\n",
       "<table border=\"1\" class=\"dataframe\">\n",
       "  <thead>\n",
       "    <tr style=\"text-align: right;\">\n",
       "      <th></th>\n",
       "      <th>name</th>\n",
       "      <th>teamID</th>\n",
       "      <th>yearID</th>\n",
       "      <th>WSWin</th>\n",
       "      <th>G</th>\n",
       "      <th>W</th>\n",
       "      <th>L</th>\n",
       "      <th>R</th>\n",
       "      <th>AB</th>\n",
       "      <th>H</th>\n",
       "      <th>...</th>\n",
       "      <th>3B</th>\n",
       "      <th>HR</th>\n",
       "      <th>BB</th>\n",
       "      <th>SO</th>\n",
       "      <th>SB</th>\n",
       "      <th>ER</th>\n",
       "      <th>ERA</th>\n",
       "      <th>CG</th>\n",
       "      <th>E</th>\n",
       "      <th>salary</th>\n",
       "    </tr>\n",
       "  </thead>\n",
       "  <tbody>\n",
       "    <tr>\n",
       "      <th>0</th>\n",
       "      <td>Atlanta Braves</td>\n",
       "      <td>ATL</td>\n",
       "      <td>1985</td>\n",
       "      <td>N</td>\n",
       "      <td>162</td>\n",
       "      <td>66</td>\n",
       "      <td>96</td>\n",
       "      <td>632</td>\n",
       "      <td>5526</td>\n",
       "      <td>1359</td>\n",
       "      <td>...</td>\n",
       "      <td>28</td>\n",
       "      <td>126</td>\n",
       "      <td>553</td>\n",
       "      <td>849.0</td>\n",
       "      <td>72.0</td>\n",
       "      <td>678</td>\n",
       "      <td>4.19</td>\n",
       "      <td>9</td>\n",
       "      <td>159</td>\n",
       "      <td>14807000</td>\n",
       "    </tr>\n",
       "    <tr>\n",
       "      <th>1</th>\n",
       "      <td>Baltimore Orioles</td>\n",
       "      <td>BAL</td>\n",
       "      <td>1985</td>\n",
       "      <td>N</td>\n",
       "      <td>161</td>\n",
       "      <td>83</td>\n",
       "      <td>78</td>\n",
       "      <td>818</td>\n",
       "      <td>5517</td>\n",
       "      <td>1451</td>\n",
       "      <td>...</td>\n",
       "      <td>22</td>\n",
       "      <td>214</td>\n",
       "      <td>604</td>\n",
       "      <td>908.0</td>\n",
       "      <td>69.0</td>\n",
       "      <td>694</td>\n",
       "      <td>4.38</td>\n",
       "      <td>32</td>\n",
       "      <td>115</td>\n",
       "      <td>11560712</td>\n",
       "    </tr>\n",
       "    <tr>\n",
       "      <th>2</th>\n",
       "      <td>Boston Red Sox</td>\n",
       "      <td>BOS</td>\n",
       "      <td>1985</td>\n",
       "      <td>N</td>\n",
       "      <td>163</td>\n",
       "      <td>81</td>\n",
       "      <td>81</td>\n",
       "      <td>800</td>\n",
       "      <td>5720</td>\n",
       "      <td>1615</td>\n",
       "      <td>...</td>\n",
       "      <td>31</td>\n",
       "      <td>162</td>\n",
       "      <td>562</td>\n",
       "      <td>816.0</td>\n",
       "      <td>66.0</td>\n",
       "      <td>659</td>\n",
       "      <td>4.06</td>\n",
       "      <td>35</td>\n",
       "      <td>145</td>\n",
       "      <td>10897560</td>\n",
       "    </tr>\n",
       "    <tr>\n",
       "      <th>3</th>\n",
       "      <td>California Angels</td>\n",
       "      <td>CAL</td>\n",
       "      <td>1985</td>\n",
       "      <td>N</td>\n",
       "      <td>162</td>\n",
       "      <td>90</td>\n",
       "      <td>72</td>\n",
       "      <td>732</td>\n",
       "      <td>5442</td>\n",
       "      <td>1364</td>\n",
       "      <td>...</td>\n",
       "      <td>31</td>\n",
       "      <td>153</td>\n",
       "      <td>648</td>\n",
       "      <td>902.0</td>\n",
       "      <td>106.0</td>\n",
       "      <td>633</td>\n",
       "      <td>3.91</td>\n",
       "      <td>22</td>\n",
       "      <td>112</td>\n",
       "      <td>14427894</td>\n",
       "    </tr>\n",
       "    <tr>\n",
       "      <th>4</th>\n",
       "      <td>Chicago White Sox</td>\n",
       "      <td>CHA</td>\n",
       "      <td>1985</td>\n",
       "      <td>N</td>\n",
       "      <td>163</td>\n",
       "      <td>85</td>\n",
       "      <td>77</td>\n",
       "      <td>736</td>\n",
       "      <td>5470</td>\n",
       "      <td>1386</td>\n",
       "      <td>...</td>\n",
       "      <td>37</td>\n",
       "      <td>146</td>\n",
       "      <td>471</td>\n",
       "      <td>843.0</td>\n",
       "      <td>108.0</td>\n",
       "      <td>656</td>\n",
       "      <td>4.07</td>\n",
       "      <td>20</td>\n",
       "      <td>111</td>\n",
       "      <td>9846178</td>\n",
       "    </tr>\n",
       "  </tbody>\n",
       "</table>\n",
       "<p>5 rows × 21 columns</p>\n",
       "</div>"
      ],
      "text/plain": [
       "                name teamID  yearID WSWin    G   W   L    R    AB     H  ...  \\\n",
       "0     Atlanta Braves    ATL    1985     N  162  66  96  632  5526  1359  ...   \n",
       "1  Baltimore Orioles    BAL    1985     N  161  83  78  818  5517  1451  ...   \n",
       "2     Boston Red Sox    BOS    1985     N  163  81  81  800  5720  1615  ...   \n",
       "3  California Angels    CAL    1985     N  162  90  72  732  5442  1364  ...   \n",
       "4  Chicago White Sox    CHA    1985     N  163  85  77  736  5470  1386  ...   \n",
       "\n",
       "   3B   HR   BB     SO     SB   ER   ERA  CG    E    salary  \n",
       "0  28  126  553  849.0   72.0  678  4.19   9  159  14807000  \n",
       "1  22  214  604  908.0   69.0  694  4.38  32  115  11560712  \n",
       "2  31  162  562  816.0   66.0  659  4.06  35  145  10897560  \n",
       "3  31  153  648  902.0  106.0  633  3.91  22  112  14427894  \n",
       "4  37  146  471  843.0  108.0  656  4.07  20  111   9846178  \n",
       "\n",
       "[5 rows x 21 columns]"
      ]
     },
     "execution_count": 7,
     "metadata": {},
     "output_type": "execute_result"
    }
   ],
   "source": [
    "#See Combined Dataframe\n",
    "combined_allteams_df.head()"
   ]
  },
  {
   "cell_type": "code",
   "execution_count": 8,
   "metadata": {},
   "outputs": [
    {
     "data": {
      "text/html": [
       "<div>\n",
       "<style scoped>\n",
       "    .dataframe tbody tr th:only-of-type {\n",
       "        vertical-align: middle;\n",
       "    }\n",
       "\n",
       "    .dataframe tbody tr th {\n",
       "        vertical-align: top;\n",
       "    }\n",
       "\n",
       "    .dataframe thead th {\n",
       "        text-align: right;\n",
       "    }\n",
       "</style>\n",
       "<table border=\"1\" class=\"dataframe\">\n",
       "  <thead>\n",
       "    <tr style=\"text-align: right;\">\n",
       "      <th></th>\n",
       "      <th>name</th>\n",
       "      <th>teamID</th>\n",
       "      <th>yearID</th>\n",
       "      <th>WSWin</th>\n",
       "      <th>G</th>\n",
       "      <th>W</th>\n",
       "      <th>L</th>\n",
       "      <th>R</th>\n",
       "      <th>AB</th>\n",
       "      <th>H</th>\n",
       "      <th>...</th>\n",
       "      <th>3B</th>\n",
       "      <th>HR</th>\n",
       "      <th>BB</th>\n",
       "      <th>SO</th>\n",
       "      <th>SB</th>\n",
       "      <th>ER</th>\n",
       "      <th>ERA</th>\n",
       "      <th>CG</th>\n",
       "      <th>E</th>\n",
       "      <th>salary</th>\n",
       "    </tr>\n",
       "  </thead>\n",
       "  <tbody>\n",
       "    <tr>\n",
       "      <th>0</th>\n",
       "      <td>Kansas City Royals</td>\n",
       "      <td>KCA</td>\n",
       "      <td>1985</td>\n",
       "      <td>Y</td>\n",
       "      <td>162</td>\n",
       "      <td>91</td>\n",
       "      <td>71</td>\n",
       "      <td>687</td>\n",
       "      <td>5500</td>\n",
       "      <td>1384</td>\n",
       "      <td>...</td>\n",
       "      <td>49</td>\n",
       "      <td>154</td>\n",
       "      <td>473</td>\n",
       "      <td>840.0</td>\n",
       "      <td>128.0</td>\n",
       "      <td>567</td>\n",
       "      <td>3.49</td>\n",
       "      <td>27</td>\n",
       "      <td>127</td>\n",
       "      <td>9321179</td>\n",
       "    </tr>\n",
       "    <tr>\n",
       "      <th>1</th>\n",
       "      <td>New York Mets</td>\n",
       "      <td>NYN</td>\n",
       "      <td>1986</td>\n",
       "      <td>Y</td>\n",
       "      <td>162</td>\n",
       "      <td>108</td>\n",
       "      <td>54</td>\n",
       "      <td>783</td>\n",
       "      <td>5558</td>\n",
       "      <td>1462</td>\n",
       "      <td>...</td>\n",
       "      <td>31</td>\n",
       "      <td>148</td>\n",
       "      <td>631</td>\n",
       "      <td>968.0</td>\n",
       "      <td>118.0</td>\n",
       "      <td>513</td>\n",
       "      <td>3.11</td>\n",
       "      <td>27</td>\n",
       "      <td>138</td>\n",
       "      <td>15393714</td>\n",
       "    </tr>\n",
       "    <tr>\n",
       "      <th>2</th>\n",
       "      <td>Minnesota Twins</td>\n",
       "      <td>MIN</td>\n",
       "      <td>1987</td>\n",
       "      <td>Y</td>\n",
       "      <td>162</td>\n",
       "      <td>85</td>\n",
       "      <td>77</td>\n",
       "      <td>786</td>\n",
       "      <td>5441</td>\n",
       "      <td>1422</td>\n",
       "      <td>...</td>\n",
       "      <td>35</td>\n",
       "      <td>196</td>\n",
       "      <td>523</td>\n",
       "      <td>898.0</td>\n",
       "      <td>113.0</td>\n",
       "      <td>734</td>\n",
       "      <td>4.63</td>\n",
       "      <td>16</td>\n",
       "      <td>98</td>\n",
       "      <td>6397500</td>\n",
       "    </tr>\n",
       "    <tr>\n",
       "      <th>3</th>\n",
       "      <td>Los Angeles Dodgers</td>\n",
       "      <td>LAN</td>\n",
       "      <td>1988</td>\n",
       "      <td>Y</td>\n",
       "      <td>162</td>\n",
       "      <td>94</td>\n",
       "      <td>67</td>\n",
       "      <td>628</td>\n",
       "      <td>5431</td>\n",
       "      <td>1346</td>\n",
       "      <td>...</td>\n",
       "      <td>25</td>\n",
       "      <td>99</td>\n",
       "      <td>437</td>\n",
       "      <td>947.0</td>\n",
       "      <td>131.0</td>\n",
       "      <td>481</td>\n",
       "      <td>2.96</td>\n",
       "      <td>32</td>\n",
       "      <td>142</td>\n",
       "      <td>16850515</td>\n",
       "    </tr>\n",
       "    <tr>\n",
       "      <th>4</th>\n",
       "      <td>Oakland Athletics</td>\n",
       "      <td>OAK</td>\n",
       "      <td>1989</td>\n",
       "      <td>Y</td>\n",
       "      <td>162</td>\n",
       "      <td>99</td>\n",
       "      <td>63</td>\n",
       "      <td>712</td>\n",
       "      <td>5416</td>\n",
       "      <td>1414</td>\n",
       "      <td>...</td>\n",
       "      <td>25</td>\n",
       "      <td>127</td>\n",
       "      <td>562</td>\n",
       "      <td>855.0</td>\n",
       "      <td>157.0</td>\n",
       "      <td>497</td>\n",
       "      <td>3.09</td>\n",
       "      <td>17</td>\n",
       "      <td>129</td>\n",
       "      <td>15613070</td>\n",
       "    </tr>\n",
       "  </tbody>\n",
       "</table>\n",
       "<p>5 rows × 21 columns</p>\n",
       "</div>"
      ],
      "text/plain": [
       "                  name teamID  yearID WSWin    G    W   L    R    AB     H  \\\n",
       "0   Kansas City Royals    KCA    1985     Y  162   91  71  687  5500  1384   \n",
       "1        New York Mets    NYN    1986     Y  162  108  54  783  5558  1462   \n",
       "2      Minnesota Twins    MIN    1987     Y  162   85  77  786  5441  1422   \n",
       "3  Los Angeles Dodgers    LAN    1988     Y  162   94  67  628  5431  1346   \n",
       "4    Oakland Athletics    OAK    1989     Y  162   99  63  712  5416  1414   \n",
       "\n",
       "   ...  3B   HR   BB     SO     SB   ER   ERA  CG    E    salary  \n",
       "0  ...  49  154  473  840.0  128.0  567  3.49  27  127   9321179  \n",
       "1  ...  31  148  631  968.0  118.0  513  3.11  27  138  15393714  \n",
       "2  ...  35  196  523  898.0  113.0  734  4.63  16   98   6397500  \n",
       "3  ...  25   99  437  947.0  131.0  481  2.96  32  142  16850515  \n",
       "4  ...  25  127  562  855.0  157.0  497  3.09  17  129  15613070  \n",
       "\n",
       "[5 rows x 21 columns]"
      ]
     },
     "execution_count": 8,
     "metadata": {},
     "output_type": "execute_result"
    }
   ],
   "source": [
    "#See World Series Winners Dataframe\n",
    "combined_wswinners_df.head()"
   ]
  },
  {
   "cell_type": "code",
   "execution_count": 9,
   "metadata": {},
   "outputs": [
    {
     "data": {
      "text/html": [
       "<div>\n",
       "<style scoped>\n",
       "    .dataframe tbody tr th:only-of-type {\n",
       "        vertical-align: middle;\n",
       "    }\n",
       "\n",
       "    .dataframe tbody tr th {\n",
       "        vertical-align: top;\n",
       "    }\n",
       "\n",
       "    .dataframe thead th {\n",
       "        text-align: right;\n",
       "    }\n",
       "</style>\n",
       "<table border=\"1\" class=\"dataframe\">\n",
       "  <thead>\n",
       "    <tr style=\"text-align: right;\">\n",
       "      <th></th>\n",
       "      <th>name</th>\n",
       "      <th>teamID</th>\n",
       "      <th>yearID</th>\n",
       "      <th>WSWin</th>\n",
       "      <th>G</th>\n",
       "      <th>W</th>\n",
       "      <th>L</th>\n",
       "      <th>R</th>\n",
       "      <th>AB</th>\n",
       "      <th>H</th>\n",
       "      <th>...</th>\n",
       "      <th>3B</th>\n",
       "      <th>HR</th>\n",
       "      <th>BB</th>\n",
       "      <th>SO</th>\n",
       "      <th>SB</th>\n",
       "      <th>ER</th>\n",
       "      <th>ERA</th>\n",
       "      <th>CG</th>\n",
       "      <th>E</th>\n",
       "      <th>salary</th>\n",
       "    </tr>\n",
       "  </thead>\n",
       "  <tbody>\n",
       "    <tr>\n",
       "      <th>0</th>\n",
       "      <td>Atlanta Braves</td>\n",
       "      <td>ATL</td>\n",
       "      <td>1985</td>\n",
       "      <td>N</td>\n",
       "      <td>162</td>\n",
       "      <td>66</td>\n",
       "      <td>96</td>\n",
       "      <td>632</td>\n",
       "      <td>5526</td>\n",
       "      <td>1359</td>\n",
       "      <td>...</td>\n",
       "      <td>28</td>\n",
       "      <td>126</td>\n",
       "      <td>553</td>\n",
       "      <td>849.0</td>\n",
       "      <td>72.0</td>\n",
       "      <td>678</td>\n",
       "      <td>4.19</td>\n",
       "      <td>9</td>\n",
       "      <td>159</td>\n",
       "      <td>14807000</td>\n",
       "    </tr>\n",
       "    <tr>\n",
       "      <th>1</th>\n",
       "      <td>Baltimore Orioles</td>\n",
       "      <td>BAL</td>\n",
       "      <td>1985</td>\n",
       "      <td>N</td>\n",
       "      <td>161</td>\n",
       "      <td>83</td>\n",
       "      <td>78</td>\n",
       "      <td>818</td>\n",
       "      <td>5517</td>\n",
       "      <td>1451</td>\n",
       "      <td>...</td>\n",
       "      <td>22</td>\n",
       "      <td>214</td>\n",
       "      <td>604</td>\n",
       "      <td>908.0</td>\n",
       "      <td>69.0</td>\n",
       "      <td>694</td>\n",
       "      <td>4.38</td>\n",
       "      <td>32</td>\n",
       "      <td>115</td>\n",
       "      <td>11560712</td>\n",
       "    </tr>\n",
       "    <tr>\n",
       "      <th>2</th>\n",
       "      <td>Boston Red Sox</td>\n",
       "      <td>BOS</td>\n",
       "      <td>1985</td>\n",
       "      <td>N</td>\n",
       "      <td>163</td>\n",
       "      <td>81</td>\n",
       "      <td>81</td>\n",
       "      <td>800</td>\n",
       "      <td>5720</td>\n",
       "      <td>1615</td>\n",
       "      <td>...</td>\n",
       "      <td>31</td>\n",
       "      <td>162</td>\n",
       "      <td>562</td>\n",
       "      <td>816.0</td>\n",
       "      <td>66.0</td>\n",
       "      <td>659</td>\n",
       "      <td>4.06</td>\n",
       "      <td>35</td>\n",
       "      <td>145</td>\n",
       "      <td>10897560</td>\n",
       "    </tr>\n",
       "    <tr>\n",
       "      <th>3</th>\n",
       "      <td>California Angels</td>\n",
       "      <td>CAL</td>\n",
       "      <td>1985</td>\n",
       "      <td>N</td>\n",
       "      <td>162</td>\n",
       "      <td>90</td>\n",
       "      <td>72</td>\n",
       "      <td>732</td>\n",
       "      <td>5442</td>\n",
       "      <td>1364</td>\n",
       "      <td>...</td>\n",
       "      <td>31</td>\n",
       "      <td>153</td>\n",
       "      <td>648</td>\n",
       "      <td>902.0</td>\n",
       "      <td>106.0</td>\n",
       "      <td>633</td>\n",
       "      <td>3.91</td>\n",
       "      <td>22</td>\n",
       "      <td>112</td>\n",
       "      <td>14427894</td>\n",
       "    </tr>\n",
       "    <tr>\n",
       "      <th>4</th>\n",
       "      <td>Chicago White Sox</td>\n",
       "      <td>CHA</td>\n",
       "      <td>1985</td>\n",
       "      <td>N</td>\n",
       "      <td>163</td>\n",
       "      <td>85</td>\n",
       "      <td>77</td>\n",
       "      <td>736</td>\n",
       "      <td>5470</td>\n",
       "      <td>1386</td>\n",
       "      <td>...</td>\n",
       "      <td>37</td>\n",
       "      <td>146</td>\n",
       "      <td>471</td>\n",
       "      <td>843.0</td>\n",
       "      <td>108.0</td>\n",
       "      <td>656</td>\n",
       "      <td>4.07</td>\n",
       "      <td>20</td>\n",
       "      <td>111</td>\n",
       "      <td>9846178</td>\n",
       "    </tr>\n",
       "  </tbody>\n",
       "</table>\n",
       "<p>5 rows × 21 columns</p>\n",
       "</div>"
      ],
      "text/plain": [
       "                name teamID  yearID WSWin    G   W   L    R    AB     H  ...  \\\n",
       "0     Atlanta Braves    ATL    1985     N  162  66  96  632  5526  1359  ...   \n",
       "1  Baltimore Orioles    BAL    1985     N  161  83  78  818  5517  1451  ...   \n",
       "2     Boston Red Sox    BOS    1985     N  163  81  81  800  5720  1615  ...   \n",
       "3  California Angels    CAL    1985     N  162  90  72  732  5442  1364  ...   \n",
       "4  Chicago White Sox    CHA    1985     N  163  85  77  736  5470  1386  ...   \n",
       "\n",
       "   3B   HR   BB     SO     SB   ER   ERA  CG    E    salary  \n",
       "0  28  126  553  849.0   72.0  678  4.19   9  159  14807000  \n",
       "1  22  214  604  908.0   69.0  694  4.38  32  115  11560712  \n",
       "2  31  162  562  816.0   66.0  659  4.06  35  145  10897560  \n",
       "3  31  153  648  902.0  106.0  633  3.91  22  112  14427894  \n",
       "4  37  146  471  843.0  108.0  656  4.07  20  111   9846178  \n",
       "\n",
       "[5 rows x 21 columns]"
      ]
     },
     "execution_count": 9,
     "metadata": {},
     "output_type": "execute_result"
    }
   ],
   "source": [
    "#See World Series Losers Dataframe\n",
    "combined_wslosers_df.head()"
   ]
  },
  {
   "cell_type": "markdown",
   "metadata": {},
   "source": [
    "## Question 1 - How does the spending of each champion compare to the rest of the league?"
   ]
  },
  {
   "cell_type": "markdown",
   "metadata": {},
   "source": [
    "Objective 1 - Collect the salary spent for the world series champions by year and Graph!"
   ]
  },
  {
   "cell_type": "code",
   "execution_count": 10,
   "metadata": {},
   "outputs": [
    {
     "data": {
      "text/plain": [
       "Text(0, 0.5, 'Salary Amount (USD)')"
      ]
     },
     "execution_count": 10,
     "metadata": {},
     "output_type": "execute_result"
    },
    {
     "data": {
      "image/png": "[encoded data removed]",
      "text/plain": [
       "<Figure size 1080x720 with 1 Axes>"
      ]
     },
     "metadata": {
      "needs_background": "light"
     },
     "output_type": "display_data"
    }
   ],
   "source": [
    "#World Series Winners - Salary Spent Bar Chart\n",
    "fig1, ax1 = plt.subplots(figsize=(15, 10))\n",
    "ax1.grid(True)\n",
    "my_colors = ['slategray', 'darkgray', 'tan', 'darkseagreen', 'forestgreen', 'mediumseagreen', 'mediumaquamarine', 'teal', 'cadetblue', 'lightblue', 'lightskyblue', 'steelblue', 'cornflowerblue', 'darkslateblue','lavender', 'midnightblue', 'slateblue', 'mediumpurple', 'indigo', 'thistle', 'peru', 'olive', 'darkseagreen', 'cadetblue', 'orange', 'steelblue', 'thistle', 'indianred', 'rosybrown', 'palevioletred' ]*5 # <-- this concatenates the list to itself 5 times.\n",
    "\n",
    "#Formatting\n",
    "ax1.get_yaxis().set_major_formatter(mpl.ticker.StrMethodFormatter('${x:,.0f}'))\n",
    "ax1.get_yaxis()\n",
    "plt.bar(combined_wswinners_df['yearID'],combined_wswinners_df['salary'], color= my_colors)\n",
    "\n",
    "#Titles and Axis Labels\n",
    "plt.title(\"Salary Spent by WS Champs by year\",fontsize = 20)\n",
    "plt.xlabel(\"Year\",fontsize = 14)\n",
    "plt.ylabel(\"Salary Amount (USD)\",fontsize = 14)\n",
    "\n",
    "#Possible Labels on Columns - Pending Code\n",
    "# x_labels = ('KCA', 'NYN', 'MIN', 'LAN', 'OAK', 'CIN', 'MIN', 'TOR', 'TOR', 'ATL', 'NYA', 'FLO', 'NYA', 'NYA', 'NYA', 'ARI', 'ANA', 'FLO', 'BOS', 'CHA', 'SLN', 'BOS', 'PHI', 'NYA', 'SFN', 'SLN', 'SFN', 'BOS', 'SFN', 'KCA')\n",
    "# fig1.xticklabels(x_labels)"
   ]
  },
  {
   "cell_type": "markdown",
   "metadata": {},
   "source": [
    "Objective 2 - Collect the average salary spent for the losers by year"
   ]
  },
  {
   "cell_type": "code",
   "execution_count": 11,
   "metadata": {},
   "outputs": [
    {
     "data": {
      "text/plain": [
       "Text(0, 0.5, 'Salary Amount [USD]')"
      ]
     },
     "execution_count": 11,
     "metadata": {},
     "output_type": "execute_result"
    },
    {
     "data": {
      "image/png": "[encoded data removed]",
      "text/plain": [
       "<Figure size 1080x720 with 1 Axes>"
      ]
     },
     "metadata": {
      "needs_background": "light"
     },
     "output_type": "display_data"
    }
   ],
   "source": [
    "#World Series Losers - Average Salary Spent Dataframe\n",
    "losers_salary_df = combined_wslosers_df.groupby(['yearID'])[['salary']].mean().reset_index()\n",
    "fig1, ax1 = plt.subplots(figsize=(15, 10))\n",
    "ax1.grid(True)\n",
    "\n",
    "# plt.bar(losers_salary_df['yearID'], losers_salary_df['salary'])\n",
    "plt.bar(losers_salary_df['yearID'], losers_salary_df['salary'], color= \"navy\")\n",
    "plt.ticklabel_format(style='plain', axis='y')\n",
    "\n",
    "#Titles and Axis Labels\n",
    "plt.title(\"Salary Spent for all Losers by year\",fontsize = 20)\n",
    "plt.xlabel(\"Year\",fontsize = 14)\n",
    "plt.ylabel(\"Salary Amount [USD]\",fontsize = 14)"
   ]
  },
  {
   "cell_type": "markdown",
   "metadata": {},
   "source": [
    "Objective 3 - Summary DF and Graph comparing objective 1 and objective 2"
   ]
  },
  {
   "cell_type": "code",
   "execution_count": 12,
   "metadata": {},
   "outputs": [
    {
     "data": {
      "image/png": "[encoded data removed]",
      "text/plain": [
       "<Figure size 1080x720 with 1 Axes>"
      ]
     },
     "metadata": {
      "needs_background": "light"
     },
     "output_type": "display_data"
    }
   ],
   "source": [
    "# #Get average Salary Spent per year for League Losers\n",
    "\n",
    "#Groupby Dataframes\n",
    "avg_salary_losers = combined_wslosers_df.groupby(by=['yearID'])['salary'].mean()\n",
    "avg_salary_losers_df = pd.DataFrame(avg_salary_losers)\n",
    "\n",
    "#Formatting\n",
    "fig1, ax1 = plt.subplots(figsize=(15, 10))\n",
    "ax1.grid(True)\n",
    "\n",
    "#Plot the Winning Teams Salary Spent against the Loser Teams Average Salary Spent (On Annual Basis)\n",
    "plt.plot(combined_wswinners_df[\"yearID\"], combined_wswinners_df[\"salary\"], color=\"darkblue\")\n",
    "plt.plot(combined_wswinners_df[\"yearID\"], avg_salary_losers_df[\"salary\"], color=\"red\")\n",
    "plt.ticklabel_format(style='plain', axis='y')\n",
    "\n",
    "#Titles and Axis Labels\n",
    "plt.title(\"Salary Spent: Winners vs. Losers\", fontsize= 20)\n",
    "plt.xlabel(\"Year\", fontsize= 16)\n",
    "plt.ylabel(\"Salary Spent (USD)\", fontsize= 16)\n",
    "plt.xticks(size= 14)\n",
    "plt.yticks(size= 14)\n",
    "\n",
    "#Currency, Comma Seperator Code\n",
    "# ax1.get_yaxis().set_major_formatter(mpl.ticker.StrMethodFormatter('${x:,.0f}'))\n",
    "# ax1.get_yaxis()\n",
    "\n",
    "#Run\n",
    "plt.tight_layout()\n",
    "plt.show()"
   ]
  },
  {
   "cell_type": "markdown",
   "metadata": {},
   "source": [
    "## Question 2 - What are the guiding parameters for salary spent for winning teams?"
   ]
  },
  {
   "cell_type": "markdown",
   "metadata": {},
   "source": [
    "Objective 1 - Find the mean and STD for the salaries per year for the entire league"
   ]
  },
  {
   "cell_type": "code",
   "execution_count": 13,
   "metadata": {},
   "outputs": [
    {
     "data": {
      "text/plain": [
       "Text(0, 0.5, 'Salary Amount (USD)')"
      ]
     },
     "execution_count": 13,
     "metadata": {},
     "output_type": "execute_result"
    },
    {
     "data": {
      "image/png": "[encoded data removed]",
      "text/plain": [
       "<Figure size 1080x720 with 1 Axes>"
      ]
     },
     "metadata": {
      "needs_background": "light"
     },
     "output_type": "display_data"
    }
   ],
   "source": [
    "# #Get the mean salary spent for entire league\n",
    "salary_mean = combined_allteams_df.groupby(by=['yearID'])[['salary']].mean()\n",
    "salary_mean = salary_mean.reset_index()\n",
    "salary_mean = salary_mean.rename(columns={\"salary\": \"Mean Salary\"})\n",
    "\n",
    "#Formatting\n",
    "fig1, ax1 = plt.subplots(figsize=(15, 10))\n",
    "fmt = \"{x:,.0f}\"\n",
    "tick = mpl.ticker.StrMethodFormatter(fmt)\n",
    "ax1.yaxis.set_major_formatter(tick)\n",
    "ax1.grid(True)\n",
    "\n",
    "#Graph\n",
    "plt.scatter(salary_mean['yearID'],salary_mean['Mean Salary'], marker= \"h\", s=175, color=\"navy\")\n",
    "\n",
    "#Titles and Axis Labels\n",
    "plt.title(\"Salary Mean per Year\",fontsize = 20)\n",
    "plt.xlabel(\"Year\",fontsize = 14)\n",
    "plt.ylabel(\"Salary Amount (USD)\",fontsize = 14)"
   ]
  },
  {
   "cell_type": "code",
   "execution_count": 14,
   "metadata": {},
   "outputs": [
    {
     "data": {
      "text/plain": [
       "Text(0, 0.5, 'Salary Amount (USD)')"
      ]
     },
     "execution_count": 14,
     "metadata": {},
     "output_type": "execute_result"
    },
    {
     "data": {
      "image/png": "[encoded data removed]",
      "text/plain": [
       "<Figure size 1080x720 with 1 Axes>"
      ]
     },
     "metadata": {
      "needs_background": "light"
     },
     "output_type": "display_data"
    }
   ],
   "source": [
    "#Get the STD for the salary spent for entire league\n",
    "salary_std = combined_allteams_df.groupby(by=['yearID'])[['salary']].std()\n",
    "salary_std = salary_std.reset_index()\n",
    "salary_std = salary_std.rename(columns={\"salary\": \"STD Salary\"})\n",
    "\n",
    "#Formatting\n",
    "fig1, ax1 = plt.subplots(figsize=(15, 10))\n",
    "fmt = \"{x:,.0f}\"\n",
    "tick = mpl.ticker.StrMethodFormatter(fmt)\n",
    "ax1.yaxis.set_major_formatter(tick)\n",
    "ax1.grid(True)\n",
    "\n",
    "#Chart the STD salary\n",
    "plt.scatter(salary_std['yearID'], salary_std['STD Salary'], marker=\"h\", s=175, color=\"navy\")\n",
    "plt.title(\"Salary STD per Year\",fontsize = 20)\n",
    "plt.xlabel(\"Year\",fontsize = 14)\n",
    "plt.ylabel(\"Salary Amount (USD)\",fontsize = 14)"
   ]
  },
  {
   "cell_type": "markdown",
   "metadata": {},
   "source": [
    "Objective 2 - Calculate the number of STD's the winning salary deviates from the mean by year"
   ]
  },
  {
   "cell_type": "code",
   "execution_count": 15,
   "metadata": {},
   "outputs": [
    {
     "data": {
      "text/html": [
       "<div>\n",
       "<style scoped>\n",
       "    .dataframe tbody tr th:only-of-type {\n",
       "        vertical-align: middle;\n",
       "    }\n",
       "\n",
       "    .dataframe tbody tr th {\n",
       "        vertical-align: top;\n",
       "    }\n",
       "\n",
       "    .dataframe thead th {\n",
       "        text-align: right;\n",
       "    }\n",
       "</style>\n",
       "<table border=\"1\" class=\"dataframe\">\n",
       "  <thead>\n",
       "    <tr style=\"text-align: right;\">\n",
       "      <th></th>\n",
       "      <th>yearID</th>\n",
       "      <th>Mean Salary</th>\n",
       "      <th>STD Salary</th>\n",
       "    </tr>\n",
       "  </thead>\n",
       "  <tbody>\n",
       "    <tr>\n",
       "      <th>0</th>\n",
       "      <td>1985</td>\n",
       "      <td>1.007557e+07</td>\n",
       "      <td>2.470845e+06</td>\n",
       "    </tr>\n",
       "    <tr>\n",
       "      <th>1</th>\n",
       "      <td>1986</td>\n",
       "      <td>1.184056e+07</td>\n",
       "      <td>3.186956e+06</td>\n",
       "    </tr>\n",
       "    <tr>\n",
       "      <th>2</th>\n",
       "      <td>1987</td>\n",
       "      <td>1.048367e+07</td>\n",
       "      <td>3.848337e+06</td>\n",
       "    </tr>\n",
       "    <tr>\n",
       "      <th>3</th>\n",
       "      <td>1988</td>\n",
       "      <td>1.155586e+07</td>\n",
       "      <td>3.386331e+06</td>\n",
       "    </tr>\n",
       "    <tr>\n",
       "      <th>4</th>\n",
       "      <td>1989</td>\n",
       "      <td>1.384599e+07</td>\n",
       "      <td>3.568844e+06</td>\n",
       "    </tr>\n",
       "  </tbody>\n",
       "</table>\n",
       "</div>"
      ],
      "text/plain": [
       "   yearID   Mean Salary    STD Salary\n",
       "0    1985  1.007557e+07  2.470845e+06\n",
       "1    1986  1.184056e+07  3.186956e+06\n",
       "2    1987  1.048367e+07  3.848337e+06\n",
       "3    1988  1.155586e+07  3.386331e+06\n",
       "4    1989  1.384599e+07  3.568844e+06"
      ]
     },
     "execution_count": 15,
     "metadata": {},
     "output_type": "execute_result"
    }
   ],
   "source": [
    "#Merge Mean Salary and Standard Deviation Salary Together\n",
    "combined_mean_std = pd.merge(salary_mean, salary_std, on=[\"yearID\"])\n",
    "combined_mean_std.head()"
   ]
  },
  {
   "cell_type": "code",
   "execution_count": 16,
   "metadata": {},
   "outputs": [
    {
     "data": {
      "text/html": [
       "<div>\n",
       "<style scoped>\n",
       "    .dataframe tbody tr th:only-of-type {\n",
       "        vertical-align: middle;\n",
       "    }\n",
       "\n",
       "    .dataframe tbody tr th {\n",
       "        vertical-align: top;\n",
       "    }\n",
       "\n",
       "    .dataframe thead th {\n",
       "        text-align: right;\n",
       "    }\n",
       "</style>\n",
       "<table border=\"1\" class=\"dataframe\">\n",
       "  <thead>\n",
       "    <tr style=\"text-align: right;\">\n",
       "      <th></th>\n",
       "      <th>yearID</th>\n",
       "      <th>Mean Salary</th>\n",
       "      <th>STD Salary</th>\n",
       "      <th>salary</th>\n",
       "    </tr>\n",
       "  </thead>\n",
       "  <tbody>\n",
       "    <tr>\n",
       "      <th>0</th>\n",
       "      <td>1985</td>\n",
       "      <td>1.007557e+07</td>\n",
       "      <td>2.470845e+06</td>\n",
       "      <td>9321179</td>\n",
       "    </tr>\n",
       "    <tr>\n",
       "      <th>1</th>\n",
       "      <td>1986</td>\n",
       "      <td>1.184056e+07</td>\n",
       "      <td>3.186956e+06</td>\n",
       "      <td>15393714</td>\n",
       "    </tr>\n",
       "    <tr>\n",
       "      <th>2</th>\n",
       "      <td>1987</td>\n",
       "      <td>1.048367e+07</td>\n",
       "      <td>3.848337e+06</td>\n",
       "      <td>6397500</td>\n",
       "    </tr>\n",
       "    <tr>\n",
       "      <th>3</th>\n",
       "      <td>1988</td>\n",
       "      <td>1.155586e+07</td>\n",
       "      <td>3.386331e+06</td>\n",
       "      <td>16850515</td>\n",
       "    </tr>\n",
       "    <tr>\n",
       "      <th>4</th>\n",
       "      <td>1989</td>\n",
       "      <td>1.384599e+07</td>\n",
       "      <td>3.568844e+06</td>\n",
       "      <td>15613070</td>\n",
       "    </tr>\n",
       "  </tbody>\n",
       "</table>\n",
       "</div>"
      ],
      "text/plain": [
       "   yearID   Mean Salary    STD Salary    salary\n",
       "0    1985  1.007557e+07  2.470845e+06   9321179\n",
       "1    1986  1.184056e+07  3.186956e+06  15393714\n",
       "2    1987  1.048367e+07  3.848337e+06   6397500\n",
       "3    1988  1.155586e+07  3.386331e+06  16850515\n",
       "4    1989  1.384599e+07  3.568844e+06  15613070"
      ]
     },
     "execution_count": 16,
     "metadata": {},
     "output_type": "execute_result"
    }
   ],
   "source": [
    "#Merge combined_mean_std dataframe with world series winners dataframe\n",
    "big_df = pd.merge(combined_mean_std, combined_wswinners_df, on=[\"yearID\"])\n",
    "big_df = big_df[[\"yearID\", \"Mean Salary\", \"STD Salary\", \"salary\"]]\n",
    "big_df.head()"
   ]
  },
  {
   "cell_type": "code",
   "execution_count": 17,
   "metadata": {},
   "outputs": [
    {
     "data": {
      "text/html": [
       "<div>\n",
       "<style scoped>\n",
       "    .dataframe tbody tr th:only-of-type {\n",
       "        vertical-align: middle;\n",
       "    }\n",
       "\n",
       "    .dataframe tbody tr th {\n",
       "        vertical-align: top;\n",
       "    }\n",
       "\n",
       "    .dataframe thead th {\n",
       "        text-align: right;\n",
       "    }\n",
       "</style>\n",
       "<table border=\"1\" class=\"dataframe\">\n",
       "  <thead>\n",
       "    <tr style=\"text-align: right;\">\n",
       "      <th></th>\n",
       "      <th>yearID</th>\n",
       "      <th>Mean Salary</th>\n",
       "      <th>STD Salary</th>\n",
       "      <th>salary</th>\n",
       "      <th>STD's from Mean</th>\n",
       "    </tr>\n",
       "  </thead>\n",
       "  <tbody>\n",
       "    <tr>\n",
       "      <th>0</th>\n",
       "      <td>1985</td>\n",
       "      <td>1.007557e+07</td>\n",
       "      <td>2.470845e+06</td>\n",
       "      <td>9321179</td>\n",
       "      <td>-0.305315</td>\n",
       "    </tr>\n",
       "    <tr>\n",
       "      <th>1</th>\n",
       "      <td>1986</td>\n",
       "      <td>1.184056e+07</td>\n",
       "      <td>3.186956e+06</td>\n",
       "      <td>15393714</td>\n",
       "      <td>1.114906</td>\n",
       "    </tr>\n",
       "    <tr>\n",
       "      <th>2</th>\n",
       "      <td>1987</td>\n",
       "      <td>1.048367e+07</td>\n",
       "      <td>3.848337e+06</td>\n",
       "      <td>6397500</td>\n",
       "      <td>-1.061801</td>\n",
       "    </tr>\n",
       "    <tr>\n",
       "      <th>3</th>\n",
       "      <td>1988</td>\n",
       "      <td>1.155586e+07</td>\n",
       "      <td>3.386331e+06</td>\n",
       "      <td>16850515</td>\n",
       "      <td>1.563537</td>\n",
       "    </tr>\n",
       "    <tr>\n",
       "      <th>4</th>\n",
       "      <td>1989</td>\n",
       "      <td>1.384599e+07</td>\n",
       "      <td>3.568844e+06</td>\n",
       "      <td>15613070</td>\n",
       "      <td>0.495141</td>\n",
       "    </tr>\n",
       "  </tbody>\n",
       "</table>\n",
       "</div>"
      ],
      "text/plain": [
       "   yearID   Mean Salary    STD Salary    salary  STD's from Mean\n",
       "0    1985  1.007557e+07  2.470845e+06   9321179        -0.305315\n",
       "1    1986  1.184056e+07  3.186956e+06  15393714         1.114906\n",
       "2    1987  1.048367e+07  3.848337e+06   6397500        -1.061801\n",
       "3    1988  1.155586e+07  3.386331e+06  16850515         1.563537\n",
       "4    1989  1.384599e+07  3.568844e+06  15613070         0.495141"
      ]
     },
     "execution_count": 17,
     "metadata": {},
     "output_type": "execute_result"
    }
   ],
   "source": [
    "#Find STD's Away from mean\n",
    "big_df[\"STD's from Mean\"] = (big_df[\"salary\"] - big_df[\"Mean Salary\"]) / big_df[\"STD Salary\"]\n",
    "big_df.head()"
   ]
  },
  {
   "cell_type": "markdown",
   "metadata": {},
   "source": [
    "Objective 3 - Graph Objective 2"
   ]
  },
  {
   "cell_type": "code",
   "execution_count": 18,
   "metadata": {
    "scrolled": true
   },
   "outputs": [
    {
     "data": {
      "text/plain": [
       "(array([-2., -1.,  0.,  1.,  2.,  3.,  4.]),\n",
       " [Text(0, 0, ''),\n",
       "  Text(0, 0, ''),\n",
       "  Text(0, 0, ''),\n",
       "  Text(0, 0, ''),\n",
       "  Text(0, 0, ''),\n",
       "  Text(0, 0, ''),\n",
       "  Text(0, 0, '')])"
      ]
     },
     "execution_count": 18,
     "metadata": {},
     "output_type": "execute_result"
    },
    {
     "data": {
      "image/png": "[encoded data removed]",
      "text/plain": [
       "<Figure size 1440x216 with 1 Axes>"
      ]
     },
     "metadata": {
      "needs_background": "light"
     },
     "output_type": "display_data"
    }
   ],
   "source": [
    "#Chart the STD's Away from Mean for the World Series Winners\n",
    "\n",
    "#Set X-Axis and Tick Locations\n",
    "x_axis = np.arange(len(big_df))\n",
    "tick_locations = [value+0.4 for value in x_axis]\n",
    "\n",
    "#Create List where to write x labels, and input titles\n",
    "plt.figure(figsize=(20,3))\n",
    "plt.bar(x_axis, big_df[\"STD's from Mean\"], color='steelblue', alpha=0.5, align=\"edge\")\n",
    "plt.xticks(tick_locations, big_df[\"yearID\"], rotation=45, )\n",
    "plt.title(\"World Series Winners - STD's from Mean Salary By Year\", fontsize=20)\n",
    "plt.xlabel(\"Year\", fontsize=16)\n",
    "plt.ylabel(\"STD's from Mean\", fontsize=16)\n",
    "plt.xticks(size= 14)\n",
    "plt.yticks(size= 14)"
   ]
  },
  {
   "cell_type": "markdown",
   "metadata": {},
   "source": [
    "## Question 3 - Do the teams that spend the most, win the most?"
   ]
  },
  {
   "cell_type": "markdown",
   "metadata": {},
   "source": [
    "Objective 1 - Find the top 5 teams in salary spent per year"
   ]
  },
  {
   "cell_type": "code",
   "execution_count": 19,
   "metadata": {},
   "outputs": [],
   "source": [
    "#Sort for Top 5 Spenders\n",
    "top_spenders = combined_allteams_df.sort_values(by=['yearID','salary'], ascending=[True, False], axis=0)[['teamID','yearID','WSWin','salary']]\n",
    "top_spenders = top_spenders.replace('N', 0)\n",
    "top_spenders = top_spenders.replace('Y', 1)"
   ]
  },
  {
   "cell_type": "markdown",
   "metadata": {},
   "source": [
    "Objective 2 - Find out how many times teams with a top 5 salary spent won the championship by year"
   ]
  },
  {
   "cell_type": "code",
   "execution_count": 20,
   "metadata": {},
   "outputs": [],
   "source": [
    "#Create List of World Series winners that were also top 5 spenders in that year\n",
    "top_five_wins = []\n",
    "for year in range(1985,2016):\n",
    "    top_five = top_spenders[top_spenders['yearID']==year]\n",
    "    top_five_wins.append(top_five.iloc[0:5]['WSWin'].sum())\n",
    "top_five_wins = sum(top_five_wins)"
   ]
  },
  {
   "cell_type": "markdown",
   "metadata": {},
   "source": [
    "Objective 3 - Calculate the percentage of times a top 5 salary spent team won the championship"
   ]
  },
  {
   "cell_type": "code",
   "execution_count": 21,
   "metadata": {},
   "outputs": [
    {
     "name": "stdout",
     "output_type": "stream",
     "text": [
      "46.67%\n"
     ]
    }
   ],
   "source": [
    "#Sum the Number of World Series Winners that Were also top 5 spenders\n",
    "all_wins = top_spenders['WSWin'].sum()\n",
    "\n",
    "#Get percentage of years where a top 5 spender won the World Series\n",
    "top_five_wins_percentage = top_five_wins/all_wins\n",
    "print(format(top_five_wins_percentage, '.2%'))\n",
    "\n",
    "#INSERT PIE CHART HERE????"
   ]
  },
  {
   "cell_type": "code",
   "execution_count": 58,
   "metadata": {},
   "outputs": [
    {
     "data": {
      "text/html": [
       "<div>\n",
       "<style scoped>\n",
       "    .dataframe tbody tr th:only-of-type {\n",
       "        vertical-align: middle;\n",
       "    }\n",
       "\n",
       "    .dataframe tbody tr th {\n",
       "        vertical-align: top;\n",
       "    }\n",
       "\n",
       "    .dataframe thead th {\n",
       "        text-align: right;\n",
       "    }\n",
       "</style>\n",
       "<table border=\"1\" class=\"dataframe\">\n",
       "  <thead>\n",
       "    <tr style=\"text-align: right;\">\n",
       "      <th></th>\n",
       "      <th>Number of wins</th>\n",
       "    </tr>\n",
       "    <tr>\n",
       "      <th>Teams</th>\n",
       "      <th></th>\n",
       "    </tr>\n",
       "  </thead>\n",
       "  <tbody>\n",
       "    <tr>\n",
       "      <th>WS Top 5 Winners</th>\n",
       "      <td>14.0</td>\n",
       "    </tr>\n",
       "    <tr>\n",
       "      <th>All Winners</th>\n",
       "      <td>16.0</td>\n",
       "    </tr>\n",
       "  </tbody>\n",
       "</table>\n",
       "</div>"
      ],
      "text/plain": [
       "                  Number of wins\n",
       "Teams                           \n",
       "WS Top 5 Winners            14.0\n",
       "All Winners                 16.0"
      ]
     },
     "execution_count": 58,
     "metadata": {},
     "output_type": "execute_result"
    }
   ],
   "source": [
    "#Working on Pie Chart Dataframe\n",
    "pie_dict = {\n",
    "    \"Number of wins\": [top_five_wins, (all_wins-top_five_wins)],\n",
    "    \"Teams\": [\"WS Top 5 Winners\", \"All Winners\"]\n",
    "}\n",
    "pie_df = pd.DataFrame.from_dict(pie_dict)\n",
    "pie_df = pie_df.set_index('Teams')\n",
    "pie_df"
   ]
  },
  {
   "cell_type": "code",
   "execution_count": 60,
   "metadata": {},
   "outputs": [
    {
     "data": {
      "text/plain": [
       "Text(0, 0.5, '')"
      ]
     },
     "execution_count": 60,
     "metadata": {},
     "output_type": "execute_result"
    },
    {
     "data": {
      "image/png": "[encoded data removed]",
      "text/plain": [
       "<Figure size 1080x720 with 1 Axes>"
      ]
     },
     "metadata": {},
     "output_type": "display_data"
    }
   ],
   "source": [
    "#Pie Chart World Series Winners that also were Top 5 Spenders\n",
    "#Dataframes\n",
    "\n",
    "#Formatting\n",
    "colors = ['green', 'blue']\n",
    "explode = (0.1, 0)\n",
    "\n",
    "#Plot\n",
    "plot = pie_df.plot.pie(y='Number of wins', figsize=(15,10), colors = colors, startangle=90, explode = explode, shadow = True, autopct=\"%1.1f%%\", fontsize = 16, legend=None)\n",
    "plt.ylabel('')"
   ]
  },
  {
   "cell_type": "markdown",
   "metadata": {},
   "source": [
    "## Question 4 - Are there any commonalities between championship teams?"
   ]
  },
  {
   "cell_type": "markdown",
   "metadata": {},
   "source": [
    "Objective 1 - Summary DF of all World Series Champions statistics"
   ]
  },
  {
   "cell_type": "markdown",
   "metadata": {},
   "source": [
    "Objective 1 - Statisical Analysis on that Dataframe (mean of statistical categories)"
   ]
  },
  {
   "cell_type": "markdown",
   "metadata": {},
   "source": [
    "Objective 1 - Develop a statistical profile for a typical world series champion"
   ]
  },
  {
   "cell_type": "code",
   "execution_count": null,
   "metadata": {},
   "outputs": [],
   "source": [
    "hr_boxplot = combined_allteams_df['HR']\n",
    "hr_boxplot.plot.box(title=\"HR Distribution 1985-2015\", grid=True)\n",
    "plt.show(block=True)"
   ]
  },
  {
   "cell_type": "code",
   "execution_count": null,
   "metadata": {},
   "outputs": [],
   "source": [
    "#See World Series Winners Dataframe\n",
    "combined_wswinners_df.head()\n",
    "combined_wswinners_df = combined_wswinners_df.assign(Percentage=lambda x: (x['H'] / x['AB']))\n",
    "combined_wswinners_df"
   ]
  },
  {
   "cell_type": "code",
   "execution_count": null,
   "metadata": {},
   "outputs": [],
   "source": [
    "#See World Series Losers Dataframe\n",
    "combined_wslosers_df.head()"
   ]
  },
  {
   "cell_type": "code",
   "execution_count": null,
   "metadata": {},
   "outputs": [],
   "source": [
    "hr_boxplot=sns.boxplot(combined_allteams_df['HR'], width=0.5, palette=\"gray\")\n",
    "hr_boxplot=sns.swarmplot(combined_wswinners_df['HR'], marker=\"o\", color='red', edgecolor=\"white\", alpha=1)\n",
    "hr_boxplot.axes.set_title(\"World Series Winner HR vs. 30 Year Breakdown\", fontsize=20)\n",
    "hr_boxplot.set_xlabel(\"Home Runs\", fontsize=14)"
   ]
  },
  {
   "cell_type": "code",
   "execution_count": null,
   "metadata": {},
   "outputs": [],
   "source": [
    "run_boxplot=sns.boxplot(combined_allteams_df['R'], width=0.5, palette=\"gray\")\n",
    "run_boxplot=sns.swarmplot(combined_wswinners_df['R'], marker=\"o\", color='red', edgecolor=\"white\", alpha=1)\n",
    "run_boxplot.axes.set_title(\"World Series Winner Runs vs. 30 Year Breakdown\", fontsize=20)\n",
    "run_boxplot.set_xlabel(\"Runs\", fontsize=14)"
   ]
  },
  {
   "cell_type": "code",
   "execution_count": null,
   "metadata": {},
   "outputs": [],
   "source": [
    "hits_boxplot=sns.boxplot(combined_allteams_df['H'], width=0.5, palette=\"gray\")\n",
    "hits_boxplot=sns.swarmplot(combined_wswinners_df['H'], marker=\"o\", color='red', edgecolor=\"white\", alpha=1)\n",
    "hits_boxplot.axes.set_title(\"World Series Winner Hits vs. 30 Year Breakdown\", fontsize=20)\n",
    "hits_boxplot.set_xlabel(\"Hits\", fontsize=14)"
   ]
  },
  {
   "cell_type": "code",
   "execution_count": null,
   "metadata": {},
   "outputs": [],
   "source": [
    "dbls_boxplot=sns.boxplot(combined_allteams_df['2B'], width=0.5, palette=\"gray\")\n",
    "dbls_boxplot=sns.swarmplot(combined_wswinners_df['2B'], marker=\"o\", color='red', edgecolor=\"white\", alpha=1)\n",
    "dbls_boxplot.axes.set_title(\"World Series Winner Doubles vs. 30 Year Breakdown\", fontsize=20)\n",
    "dbls_boxplot.set_xlabel(\"Doubles\", fontsize=14)"
   ]
  },
  {
   "cell_type": "code",
   "execution_count": null,
   "metadata": {},
   "outputs": [],
   "source": [
    "trpls_boxplot=sns.boxplot(combined_allteams_df['3B'], width=0.5, palette=\"gray\")\n",
    "trpls_boxplot=sns.swarmplot(combined_wswinners_df['3B'], marker=\"o\", color='red', edgecolor=\"white\", alpha=1)\n",
    "trpls_boxplot.axes.set_title(\"World Series Winner Triples vs. 30 Year Breakdown\", fontsize=20)\n",
    "trpls_boxplot.set_xlabel(\"Triples\", fontsize=14)"
   ]
  },
  {
   "cell_type": "code",
   "execution_count": null,
   "metadata": {},
   "outputs": [],
   "source": [
    "bb_boxplot=sns.boxplot(combined_allteams_df['BB'], width=0.5, palette=\"gray\")\n",
    "bb_boxplot=sns.swarmplot(combined_wswinners_df['BB'], marker=\"o\", color='red', edgecolor=\"white\", alpha=1)\n",
    "bb_boxplot.axes.set_title(\"World Series Winner Walks vs. 30 Year Breakdown\", fontsize=20)\n",
    "bb_boxplot.set_xlabel(\"Walks\", fontsize=14)"
   ]
  },
  {
   "cell_type": "code",
   "execution_count": null,
   "metadata": {},
   "outputs": [],
   "source": [
    "so_boxplot=sns.boxplot(combined_allteams_df['SO'], width=0.5, palette=\"gray\")\n",
    "so_boxplot=sns.swarmplot(combined_wswinners_df['SO'], marker=\"o\", color='red', edgecolor=\"white\", alpha=1)\n",
    "so_boxplot.axes.set_title(\"World Series Winner Strikeouts vs. 30 Year Breakdown\", fontsize=20)\n",
    "so_boxplot.set_xlabel(\"Strikeouts\", fontsize=14)"
   ]
  },
  {
   "cell_type": "code",
   "execution_count": null,
   "metadata": {},
   "outputs": [],
   "source": [
    "sb_boxplot=sns.boxplot(combined_allteams_df['SB'], width=0.5, palette=\"gray\")\n",
    "sb_boxplot=sns.swarmplot(combined_wswinners_df['SB'], marker=\"o\", color='red', edgecolor=\"white\", alpha=1)\n",
    "sb_boxplot.axes.set_title(\"World Series Winner Stolen Bases vs. 30 Year Breakdown\", fontsize=20)\n",
    "sb_boxplot.set_xlabel(\"Runs\", fontsize=14)"
   ]
  },
  {
   "cell_type": "code",
   "execution_count": null,
   "metadata": {},
   "outputs": [],
   "source": [
    "era_boxplot=sns.boxplot(combined_allteams_df['ERA'], width=0.5, palette=\"gray\")\n",
    "era_boxplot=sns.swarmplot(combined_wswinners_df['ERA'], marker=\"o\", color='red', edgecolor=\"white\", alpha=1)\n",
    "era_boxplot.axes.set_title(\"World Series Winner ERA vs. 30 Year Breakdown\", fontsize=20)\n",
    "era_boxplot.set_xlabel(\"Earned Run Average\", fontsize=14)"
   ]
  },
  {
   "cell_type": "code",
   "execution_count": null,
   "metadata": {},
   "outputs": [],
   "source": [
    "error_boxplot=sns.boxplot(combined_allteams_df['E'], width=0.5, palette=\"gray\")\n",
    "error_boxplot=sns.swarmplot(combined_wswinners_df['E'], marker=\"o\", color='red', edgecolor=\"white\", alpha=1)\n",
    "error_boxplot.axes.set_title(\"World Series Winner Stolen Bases vs. 30 Year Breakdown\", fontsize=20)\n",
    "error_boxplot.set_xlabel(\"Runs\", fontsize=14)"
   ]
  },
  {
   "cell_type": "code",
   "execution_count": null,
   "metadata": {},
   "outputs": [],
   "source": [
    "HR_plot = combined_wswinners_df.plot(kind=\"scatter\", x=\"name\", y=\"HR\", grid=True, marker= 'X', s=175,\n",
    "                          color=\"orangered\", edgecolor='black')\n",
    "plt.xticks(rotation=45, size= 14)\n",
    "plt.yticks(size= 14)\n",
    "\n",
    "plt.grid(True) \n",
    "\n",
    "plt.title(\"Home Runs by WS Winners\",fontsize = 20)\n",
    "plt.ylabel(\"Home Runs\",fontsize = 16)\n",
    "plt.xlabel(\"Team\",fontsize = 16)\n",
    "x = combined_wswinners_df['name']\n",
    "y = combined_wswinners_df['HR']\n",
    "for i, txt in enumerate(combined_wswinners_df['yearID']):\n",
    "    plt.annotate(txt, (x[i], y[i]))\n",
    "\n",
    "HR_plot\n"
   ]
  },
  {
   "cell_type": "code",
   "execution_count": null,
   "metadata": {},
   "outputs": [],
   "source": [
    "Hits_plot = combined_wswinners_df.plot(kind=\"scatter\", x=\"name\", y=\"H\", grid=True, color=\"orangered\", \n",
    "                                       marker= 's',  s=175, edgecolor='black')\n",
    "\n",
    "plt.xticks(rotation=90, size= 14)\n",
    "plt.yticks(size= 14)\n",
    "\n",
    "plt.title(\"Runs Scored by WS Winners\",fontsize = 20)\n",
    "plt.ylabel(\"Home Runs\",fontsize = 16)\n",
    "plt.xlabel(\"Team\",fontsize = 16)\n",
    "x = combined_wswinners_df['name']\n",
    "y = combined_wswinners_df['H']\n",
    "for i, txt in enumerate(combined_wswinners_df['yearID']):\n",
    "    plt.annotate(txt, (x[i], y[i]))\n",
    "\n",
    "\n",
    "Hits_plot"
   ]
  },
  {
   "cell_type": "code",
   "execution_count": null,
   "metadata": {},
   "outputs": [],
   "source": [
    "doubles_plot = combined_wswinners_df.plot(kind=\"scatter\", x=\"name\", y=\"2B\", grid=True, color=\"orangered\", marker= 'H', s=175, edgecolor='black')\n",
    "\n",
    "plt.xticks(rotation=90, size= 14)\n",
    "plt.yticks(size= 14)\n",
    "\n",
    "plt.title(\"Doubles by WS Winners\",fontsize = 20)\n",
    "plt.ylabel(\"Doubles\",fontsize = 16)\n",
    "plt.xlabel(\"Team\",fontsize = 16)\n",
    "x = combined_wswinners_df['name']\n",
    "y = combined_wswinners_df['2B']\n",
    "for i, txt in enumerate(combined_wswinners_df['yearID']):\n",
    "    plt.annotate(txt, (x[i], y[i]))\n",
    "\n",
    "\n",
    "doubles_plot"
   ]
  },
  {
   "cell_type": "code",
   "execution_count": null,
   "metadata": {},
   "outputs": [],
   "source": [
    "triples_plot = combined_wswinners_df.plot(kind=\"scatter\", x=\"name\", y=\"3B\", grid=True, color=\"orangered\", marker= 'h', s=175, edgecolor='black')\n",
    "\n",
    "plt.xticks(rotation=90, size= 14)\n",
    "plt.yticks(size= 14)\n",
    "\n",
    "plt.title(\"Triples by WS Winners\",fontsize = 20)\n",
    "plt.ylabel(\"Triples\",fontsize = 16)\n",
    "plt.xlabel(\"Team\",fontsize = 16)\n",
    "x = combined_wswinners_df['name']\n",
    "y = combined_wswinners_df['3B']\n",
    "for i, txt in enumerate(combined_wswinners_df['yearID']):\n",
    "    plt.annotate(txt, (x[i], y[i]))\n",
    "\n",
    "\n",
    "triples_plot"
   ]
  },
  {
   "cell_type": "code",
   "execution_count": null,
   "metadata": {},
   "outputs": [],
   "source": [
    "walks_plot = combined_wswinners_df.plot(kind=\"scatter\", x=\"name\", y=\"BB\", grid=True, color=\"lime\", marker= 'X', s=175, edgecolor='black')\n",
    "\n",
    "plt.xticks(rotation=90, size= 14)\n",
    "plt.yticks(size= 14)\n",
    "\n",
    "plt.title(\"Walks by WS Winners\",fontsize = 20)\n",
    "plt.ylabel(\"Walks\",fontsize = 16)\n",
    "plt.xlabel(\"Team\",fontsize = 16)\n",
    "x = combined_wswinners_df['name']\n",
    "y = combined_wswinners_df['BB']\n",
    "for i, txt in enumerate(combined_wswinners_df['yearID']):\n",
    "    plt.annotate(txt, (x[i], y[i]))\n",
    "\n",
    "\n",
    "walks_plot"
   ]
  },
  {
   "cell_type": "code",
   "execution_count": null,
   "metadata": {},
   "outputs": [],
   "source": [
    "so_plot = combined_wswinners_df.plot(kind=\"scatter\", x=\"name\", y=\"SO\", grid=True, color=\"lime\", marker= 'X', s=175, edgecolor='black')\n",
    "\n",
    "plt.xticks(rotation=90, size= 14)\n",
    "plt.yticks(size= 14)\n",
    "\n",
    "plt.title(\"Strikeouts by WS Winners\",fontsize = 20)\n",
    "plt.ylabel(\"Strikeouts\",fontsize = 16)\n",
    "plt.xlabel(\"Team\",fontsize = 16)\n",
    "x = combined_wswinners_df['name']\n",
    "y = combined_wswinners_df['SO']\n",
    "for i, txt in enumerate(combined_wswinners_df['yearID']):\n",
    "    plt.annotate(txt, (x[i], y[i]))\n",
    "\n",
    "\n",
    "so_plot"
   ]
  },
  {
   "cell_type": "code",
   "execution_count": null,
   "metadata": {},
   "outputs": [],
   "source": [
    "batavg_plot = combined_wswinners_df.plot(kind=\"scatter\", x=\"name\", y=\"Percentage\", grid=True, color=\"lime\", marker= 'X', s=175, edgecolor='black')\n",
    "\n",
    "plt.xticks(rotation=90, size= 14)\n",
    "plt.yticks(size= 14)\n",
    "\n",
    "plt.title(\"Batting Average by WS Winners\",fontsize = 20)\n",
    "plt.ylabel(\"Batting Average\",fontsize = 16)\n",
    "plt.xlabel(\"Team\",fontsize = 16)\n",
    "x = combined_wswinners_df['name']\n",
    "y = combined_wswinners_df['Percentage']\n",
    "for i, txt in enumerate(combined_wswinners_df['yearID']):\n",
    "    plt.annotate(txt, (x[i], y[i]))\n",
    "\n",
    "batavg_plot"
   ]
  },
  {
   "cell_type": "code",
   "execution_count": null,
   "metadata": {},
   "outputs": [],
   "source": [
    "sb_plot = combined_wswinners_df.plot(kind=\"scatter\", x=\"name\", y=\"SB\", grid=True, color=\"lime\", marker= 'X', s=175, edgecolor='black')\n",
    "\n",
    "plt.xticks(rotation=90, size= 14)\n",
    "plt.yticks(size= 14)\n",
    "\n",
    "plt.title(\"Stolen Bases by WS Winners\",fontsize = 20)\n",
    "plt.ylabel(\"Stolen Bases\",fontsize = 16)\n",
    "plt.xlabel(\"Team\",fontsize = 16)\n",
    "x = combined_wswinners_df['name']\n",
    "y = combined_wswinners_df['SB']\n",
    "for i, txt in enumerate(combined_wswinners_df['yearID']):\n",
    "    plt.annotate(txt, (x[i], y[i]))\n",
    "\n",
    "\n",
    "sb_plot"
   ]
  },
  {
   "cell_type": "code",
   "execution_count": null,
   "metadata": {},
   "outputs": [],
   "source": [
    "er_plot = combined_wswinners_df.plot(kind=\"scatter\", x=\"name\", y=\"ER\", grid=True, color=\"lime\", marker= 'X', s=175, edgecolor='black')\n",
    "\n",
    "plt.xticks(rotation=90, size= 14)\n",
    "plt.yticks(size= 14)\n",
    "\n",
    "plt.title(\"Earned Runs by WS Winners\",fontsize = 20)\n",
    "plt.ylabel(\"Earned Runs\",fontsize = 16)\n",
    "plt.xlabel(\"Team\",fontsize = 16)\n",
    "x = combined_wswinners_df['name']\n",
    "y = combined_wswinners_df['ER']\n",
    "for i, txt in enumerate(combined_wswinners_df['yearID']):\n",
    "    plt.annotate(txt, (x[i], y[i]))\n",
    "\n",
    "\n",
    "er_plot"
   ]
  },
  {
   "cell_type": "code",
   "execution_count": null,
   "metadata": {},
   "outputs": [],
   "source": [
    "era_plot = combined_wswinners_df.plot(kind=\"scatter\", x=\"name\", y=\"ERA\", grid=True, color=\"lime\", marker= 'X', s=175, edgecolor='black')\n",
    "\n",
    "plt.xticks(rotation=90, size= 14)\n",
    "plt.yticks(size= 14)\n",
    "\n",
    "plt.title(\"Earned Run Average by WS Winners\",fontsize = 20)\n",
    "plt.ylabel(\"Earned Run Average\",fontsize = 16)\n",
    "plt.xlabel(\"Team\",fontsize = 16)\n",
    "x = combined_wswinners_df['name']\n",
    "y = combined_wswinners_df['ERA']\n",
    "for i, txt in enumerate(combined_wswinners_df['yearID']):\n",
    "    plt.annotate(txt, (x[i], y[i]))\n",
    "\n",
    "\n",
    "era_plot"
   ]
  },
  {
   "cell_type": "code",
   "execution_count": null,
   "metadata": {},
   "outputs": [],
   "source": [
    "error_plot = combined_wswinners_df.plot(kind=\"scatter\", x=\"name\", y=\"E\", grid=True, color=\"lime\", marker= 'X', s=175, edgecolor='black')\n",
    "\n",
    "plt.xticks(rotation=90, size= 14)\n",
    "plt.yticks(size= 14)\n",
    "\n",
    "plt.title(\"Errors by WS Winners\",fontsize = 20)\n",
    "plt.ylabel(\"Errors\",fontsize = 16)\n",
    "plt.xlabel(\"Team\",fontsize = 16)\n",
    "x = combined_wswinners_df['name']\n",
    "y = combined_wswinners_df['E']\n",
    "for i, txt in enumerate(combined_wswinners_df['yearID']):\n",
    "    plt.annotate(txt, (x[i], y[i]))\n",
    "\n",
    "\n",
    "error_plot"
   ]
  },
  {
   "cell_type": "code",
   "execution_count": null,
   "metadata": {},
   "outputs": [],
   "source": [
    "winners_stats_summary_df  = combined_wswinners_df.describe()\n",
    "winners_stats_summary_df"
   ]
  },
  {
   "cell_type": "code",
   "execution_count": null,
   "metadata": {},
   "outputs": [],
   "source": []
  }
 ],
 "metadata": {
  "kernelspec": {
   "display_name": "Python 3",
   "language": "python",
   "name": "python3"
  },
  "language_info": {
   "codemirror_mode": {
    "name": "ipython",
    "version": 3
   },
   "file_extension": ".py",
   "mimetype": "text/x-python",
   "name": "python",
   "nbconvert_exporter": "python",
   "pygments_lexer": "ipython3",
   "version": "3.8.5"
  }
 },
 "nbformat": 4,
 "nbformat_minor": 4
}
