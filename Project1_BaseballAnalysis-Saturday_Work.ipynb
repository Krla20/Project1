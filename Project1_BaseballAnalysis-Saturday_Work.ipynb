{
 "cells": [
  {
   "cell_type": "markdown",
   "metadata": {},
   "source": [
    "# Project 1 - Major League Baseball Analysis"
   ]
  },
  {
   "cell_type": "code",
   "execution_count": 1,
   "metadata": {},
   "outputs": [],
   "source": [
    "#PROJECT SCOPE:\n",
    "\n",
    "#Question 1 - How does the spending of each champion compare to the rest of the league?\n",
    "#Objective 1 - Collect the salary spent for the world series champions by year\n",
    "#Objective 2 - Collect the average salary spent for the losers by year\n",
    "#Objective 3 - Summary DF and Graph comparing objective 1 and objective 2\n",
    "\n",
    "#---------------------------------------------------------------------------------\n",
    "\n",
    "#Question 2 - What are the guiding parameters for salary spent for winning teams?\n",
    "#Objective 1 - Find the mean and STD for the salaries per year for the entire league\n",
    "#Objective 2 - Calculate the number of STD's the winning salary deviates from the mean by year\n",
    "#Objective 3 - Summary DF and Graph Objective 2\n",
    "\n",
    "#----------------------------------------------------------------------------------\n",
    "\n",
    "#Question 3 - Do the teams that spend the most, win the most?\n",
    "#Objective 1 - Find the top 5 teams in salary spent per year\n",
    "#Objective 2 - Find out how many times teams with a top 5 salary spent won the championship by year\n",
    "#Objective 3 - Calculate the percentage of times a top 5 salary spent team won the championship\n",
    "\n",
    "#----------------------------------------------------------------------------------\n",
    "\n",
    "#Question 4 - Are there any commonalities between championship teams?\n",
    "#Objective 1 - Summary DF of all World Series Champions statistics\n",
    "#Objective 2 - Statisical Analysis on that Dataframe (mean of statistical categories)\n",
    "#Objective 3 - Develop a statistical profile for a typical world series champion"
   ]
  },
  {
   "cell_type": "code",
   "execution_count": 2,
   "metadata": {},
   "outputs": [],
   "source": [
    "#Import Dependencies\n",
    "import matplotlib.pyplot as plt\n",
    "import pandas as pd\n",
    "import scipy.stats as st\n",
    "import numpy as np"
   ]
  },
  {
   "cell_type": "markdown",
   "metadata": {},
   "source": [
    "## Gathering and Organizing Data"
   ]
  },
  {
   "cell_type": "code",
   "execution_count": 3,
   "metadata": {},
   "outputs": [],
   "source": [
    "#CSV Read Ins from Kaggle Website\n",
    "\n",
    "#Teams File - Convert to DataFrame\n",
    "teams_filepath = \"Resources/Teams.csv\"\n",
    "teams_df = pd.read_csv(teams_filepath)\n",
    "\n",
    "#Salary File - COnvert to DataFrame\n",
    "salary_csvpath = \"Resources/Salaries.csv\"\n",
    "salary_df = pd.read_csv(salary_csvpath)"
   ]
  },
  {
   "cell_type": "code",
   "execution_count": 4,
   "metadata": {},
   "outputs": [],
   "source": [
    "#Dataframe Cleanup - Preparing Dataframes to Analyze\n",
    "\n",
    "#Teams CSV - Organize Columns, Drop Years Prior to 1985\n",
    "teams_df = teams_df[[\"name\", \"teamID\", \"yearID\", \"WSWin\", \"G\", \"W\", \"L\", \"R\", \"AB\", \"H\", \"2B\", \"3B\", \"HR\", \"BB\", \"SO\", \"SB\", \"ER\", \"ERA\", \"CG\", \"E\"]]\n",
    "teams_df = teams_df.loc[teams_df[\"yearID\"] > 1984]\n",
    "\n",
    "#Salary CSV - Group Salary Dataframe by YearID & TeamID, retrieve sum\n",
    "salary_year = salary_df.groupby(by=['yearID','teamID'])['salary'].sum()\n",
    "salary_df = pd.DataFrame(salary_year)"
   ]
  },
  {
   "cell_type": "code",
   "execution_count": 5,
   "metadata": {},
   "outputs": [],
   "source": [
    "#Get Stats Data for the Winners & Losers of the World Series\n",
    "ws_winners_df = pd.DataFrame(teams_df.loc[(teams_df[\"WSWin\"] == \"Y\")])\n",
    "ws_losers_df = pd.DataFrame(teams_df.loc[(teams_df[\"WSWin\"] == \"N\")])"
   ]
  },
  {
   "cell_type": "code",
   "execution_count": 6,
   "metadata": {},
   "outputs": [],
   "source": [
    "#Merge Dataframes to get Stats Data and Salary Data in one dataframe\n",
    "combined_allteams_df = pd.merge(teams_df, salary_df, on=[\"yearID\", \"teamID\"])\n",
    "combined_wswinners_df = pd.merge(ws_winners_df, salary_df, on=[\"yearID\", \"teamID\"])\n",
    "combined_wslosers_df = pd.merge(ws_losers_df, salary_df, on=[\"yearID\", \"teamID\"])"
   ]
  },
  {
   "cell_type": "code",
   "execution_count": 7,
   "metadata": {},
   "outputs": [
    {
     "data": {
      "text/html": [
       "<div>\n",
       "<style scoped>\n",
       "    .dataframe tbody tr th:only-of-type {\n",
       "        vertical-align: middle;\n",
       "    }\n",
       "\n",
       "    .dataframe tbody tr th {\n",
       "        vertical-align: top;\n",
       "    }\n",
       "\n",
       "    .dataframe thead th {\n",
       "        text-align: right;\n",
       "    }\n",
       "</style>\n",
       "<table border=\"1\" class=\"dataframe\">\n",
       "  <thead>\n",
       "    <tr style=\"text-align: right;\">\n",
       "      <th></th>\n",
       "      <th>name</th>\n",
       "      <th>teamID</th>\n",
       "      <th>yearID</th>\n",
       "      <th>WSWin</th>\n",
       "      <th>G</th>\n",
       "      <th>W</th>\n",
       "      <th>L</th>\n",
       "      <th>R</th>\n",
       "      <th>AB</th>\n",
       "      <th>H</th>\n",
       "      <th>...</th>\n",
       "      <th>3B</th>\n",
       "      <th>HR</th>\n",
       "      <th>BB</th>\n",
       "      <th>SO</th>\n",
       "      <th>SB</th>\n",
       "      <th>ER</th>\n",
       "      <th>ERA</th>\n",
       "      <th>CG</th>\n",
       "      <th>E</th>\n",
       "      <th>salary</th>\n",
       "    </tr>\n",
       "  </thead>\n",
       "  <tbody>\n",
       "    <tr>\n",
       "      <th>0</th>\n",
       "      <td>Atlanta Braves</td>\n",
       "      <td>ATL</td>\n",
       "      <td>1985</td>\n",
       "      <td>N</td>\n",
       "      <td>162</td>\n",
       "      <td>66</td>\n",
       "      <td>96</td>\n",
       "      <td>632</td>\n",
       "      <td>5526</td>\n",
       "      <td>1359</td>\n",
       "      <td>...</td>\n",
       "      <td>28</td>\n",
       "      <td>126</td>\n",
       "      <td>553</td>\n",
       "      <td>849.0</td>\n",
       "      <td>72.0</td>\n",
       "      <td>678</td>\n",
       "      <td>4.19</td>\n",
       "      <td>9</td>\n",
       "      <td>159</td>\n",
       "      <td>14807000</td>\n",
       "    </tr>\n",
       "    <tr>\n",
       "      <th>1</th>\n",
       "      <td>Baltimore Orioles</td>\n",
       "      <td>BAL</td>\n",
       "      <td>1985</td>\n",
       "      <td>N</td>\n",
       "      <td>161</td>\n",
       "      <td>83</td>\n",
       "      <td>78</td>\n",
       "      <td>818</td>\n",
       "      <td>5517</td>\n",
       "      <td>1451</td>\n",
       "      <td>...</td>\n",
       "      <td>22</td>\n",
       "      <td>214</td>\n",
       "      <td>604</td>\n",
       "      <td>908.0</td>\n",
       "      <td>69.0</td>\n",
       "      <td>694</td>\n",
       "      <td>4.38</td>\n",
       "      <td>32</td>\n",
       "      <td>115</td>\n",
       "      <td>11560712</td>\n",
       "    </tr>\n",
       "    <tr>\n",
       "      <th>2</th>\n",
       "      <td>Boston Red Sox</td>\n",
       "      <td>BOS</td>\n",
       "      <td>1985</td>\n",
       "      <td>N</td>\n",
       "      <td>163</td>\n",
       "      <td>81</td>\n",
       "      <td>81</td>\n",
       "      <td>800</td>\n",
       "      <td>5720</td>\n",
       "      <td>1615</td>\n",
       "      <td>...</td>\n",
       "      <td>31</td>\n",
       "      <td>162</td>\n",
       "      <td>562</td>\n",
       "      <td>816.0</td>\n",
       "      <td>66.0</td>\n",
       "      <td>659</td>\n",
       "      <td>4.06</td>\n",
       "      <td>35</td>\n",
       "      <td>145</td>\n",
       "      <td>10897560</td>\n",
       "    </tr>\n",
       "    <tr>\n",
       "      <th>3</th>\n",
       "      <td>California Angels</td>\n",
       "      <td>CAL</td>\n",
       "      <td>1985</td>\n",
       "      <td>N</td>\n",
       "      <td>162</td>\n",
       "      <td>90</td>\n",
       "      <td>72</td>\n",
       "      <td>732</td>\n",
       "      <td>5442</td>\n",
       "      <td>1364</td>\n",
       "      <td>...</td>\n",
       "      <td>31</td>\n",
       "      <td>153</td>\n",
       "      <td>648</td>\n",
       "      <td>902.0</td>\n",
       "      <td>106.0</td>\n",
       "      <td>633</td>\n",
       "      <td>3.91</td>\n",
       "      <td>22</td>\n",
       "      <td>112</td>\n",
       "      <td>14427894</td>\n",
       "    </tr>\n",
       "    <tr>\n",
       "      <th>4</th>\n",
       "      <td>Chicago White Sox</td>\n",
       "      <td>CHA</td>\n",
       "      <td>1985</td>\n",
       "      <td>N</td>\n",
       "      <td>163</td>\n",
       "      <td>85</td>\n",
       "      <td>77</td>\n",
       "      <td>736</td>\n",
       "      <td>5470</td>\n",
       "      <td>1386</td>\n",
       "      <td>...</td>\n",
       "      <td>37</td>\n",
       "      <td>146</td>\n",
       "      <td>471</td>\n",
       "      <td>843.0</td>\n",
       "      <td>108.0</td>\n",
       "      <td>656</td>\n",
       "      <td>4.07</td>\n",
       "      <td>20</td>\n",
       "      <td>111</td>\n",
       "      <td>9846178</td>\n",
       "    </tr>\n",
       "  </tbody>\n",
       "</table>\n",
       "<p>5 rows × 21 columns</p>\n",
       "</div>"
      ],
      "text/plain": [
       "                name teamID  yearID WSWin    G   W   L    R    AB     H  ...  \\\n",
       "0     Atlanta Braves    ATL    1985     N  162  66  96  632  5526  1359  ...   \n",
       "1  Baltimore Orioles    BAL    1985     N  161  83  78  818  5517  1451  ...   \n",
       "2     Boston Red Sox    BOS    1985     N  163  81  81  800  5720  1615  ...   \n",
       "3  California Angels    CAL    1985     N  162  90  72  732  5442  1364  ...   \n",
       "4  Chicago White Sox    CHA    1985     N  163  85  77  736  5470  1386  ...   \n",
       "\n",
       "   3B   HR   BB     SO     SB   ER   ERA  CG    E    salary  \n",
       "0  28  126  553  849.0   72.0  678  4.19   9  159  14807000  \n",
       "1  22  214  604  908.0   69.0  694  4.38  32  115  11560712  \n",
       "2  31  162  562  816.0   66.0  659  4.06  35  145  10897560  \n",
       "3  31  153  648  902.0  106.0  633  3.91  22  112  14427894  \n",
       "4  37  146  471  843.0  108.0  656  4.07  20  111   9846178  \n",
       "\n",
       "[5 rows x 21 columns]"
      ]
     },
     "execution_count": 7,
     "metadata": {},
     "output_type": "execute_result"
    }
   ],
   "source": [
    "#See Combined Dataframe\n",
    "combined_allteams_df.head()"
   ]
  },
  {
   "cell_type": "code",
   "execution_count": 8,
   "metadata": {},
   "outputs": [
    {
     "data": {
      "text/html": [
       "<div>\n",
       "<style scoped>\n",
       "    .dataframe tbody tr th:only-of-type {\n",
       "        vertical-align: middle;\n",
       "    }\n",
       "\n",
       "    .dataframe tbody tr th {\n",
       "        vertical-align: top;\n",
       "    }\n",
       "\n",
       "    .dataframe thead th {\n",
       "        text-align: right;\n",
       "    }\n",
       "</style>\n",
       "<table border=\"1\" class=\"dataframe\">\n",
       "  <thead>\n",
       "    <tr style=\"text-align: right;\">\n",
       "      <th></th>\n",
       "      <th>name</th>\n",
       "      <th>teamID</th>\n",
       "      <th>yearID</th>\n",
       "      <th>WSWin</th>\n",
       "      <th>G</th>\n",
       "      <th>W</th>\n",
       "      <th>L</th>\n",
       "      <th>R</th>\n",
       "      <th>AB</th>\n",
       "      <th>H</th>\n",
       "      <th>...</th>\n",
       "      <th>3B</th>\n",
       "      <th>HR</th>\n",
       "      <th>BB</th>\n",
       "      <th>SO</th>\n",
       "      <th>SB</th>\n",
       "      <th>ER</th>\n",
       "      <th>ERA</th>\n",
       "      <th>CG</th>\n",
       "      <th>E</th>\n",
       "      <th>salary</th>\n",
       "    </tr>\n",
       "  </thead>\n",
       "  <tbody>\n",
       "    <tr>\n",
       "      <th>0</th>\n",
       "      <td>Kansas City Royals</td>\n",
       "      <td>KCA</td>\n",
       "      <td>1985</td>\n",
       "      <td>Y</td>\n",
       "      <td>162</td>\n",
       "      <td>91</td>\n",
       "      <td>71</td>\n",
       "      <td>687</td>\n",
       "      <td>5500</td>\n",
       "      <td>1384</td>\n",
       "      <td>...</td>\n",
       "      <td>49</td>\n",
       "      <td>154</td>\n",
       "      <td>473</td>\n",
       "      <td>840.0</td>\n",
       "      <td>128.0</td>\n",
       "      <td>567</td>\n",
       "      <td>3.49</td>\n",
       "      <td>27</td>\n",
       "      <td>127</td>\n",
       "      <td>9321179</td>\n",
       "    </tr>\n",
       "    <tr>\n",
       "      <th>1</th>\n",
       "      <td>New York Mets</td>\n",
       "      <td>NYN</td>\n",
       "      <td>1986</td>\n",
       "      <td>Y</td>\n",
       "      <td>162</td>\n",
       "      <td>108</td>\n",
       "      <td>54</td>\n",
       "      <td>783</td>\n",
       "      <td>5558</td>\n",
       "      <td>1462</td>\n",
       "      <td>...</td>\n",
       "      <td>31</td>\n",
       "      <td>148</td>\n",
       "      <td>631</td>\n",
       "      <td>968.0</td>\n",
       "      <td>118.0</td>\n",
       "      <td>513</td>\n",
       "      <td>3.11</td>\n",
       "      <td>27</td>\n",
       "      <td>138</td>\n",
       "      <td>15393714</td>\n",
       "    </tr>\n",
       "    <tr>\n",
       "      <th>2</th>\n",
       "      <td>Minnesota Twins</td>\n",
       "      <td>MIN</td>\n",
       "      <td>1987</td>\n",
       "      <td>Y</td>\n",
       "      <td>162</td>\n",
       "      <td>85</td>\n",
       "      <td>77</td>\n",
       "      <td>786</td>\n",
       "      <td>5441</td>\n",
       "      <td>1422</td>\n",
       "      <td>...</td>\n",
       "      <td>35</td>\n",
       "      <td>196</td>\n",
       "      <td>523</td>\n",
       "      <td>898.0</td>\n",
       "      <td>113.0</td>\n",
       "      <td>734</td>\n",
       "      <td>4.63</td>\n",
       "      <td>16</td>\n",
       "      <td>98</td>\n",
       "      <td>6397500</td>\n",
       "    </tr>\n",
       "    <tr>\n",
       "      <th>3</th>\n",
       "      <td>Los Angeles Dodgers</td>\n",
       "      <td>LAN</td>\n",
       "      <td>1988</td>\n",
       "      <td>Y</td>\n",
       "      <td>162</td>\n",
       "      <td>94</td>\n",
       "      <td>67</td>\n",
       "      <td>628</td>\n",
       "      <td>5431</td>\n",
       "      <td>1346</td>\n",
       "      <td>...</td>\n",
       "      <td>25</td>\n",
       "      <td>99</td>\n",
       "      <td>437</td>\n",
       "      <td>947.0</td>\n",
       "      <td>131.0</td>\n",
       "      <td>481</td>\n",
       "      <td>2.96</td>\n",
       "      <td>32</td>\n",
       "      <td>142</td>\n",
       "      <td>16850515</td>\n",
       "    </tr>\n",
       "    <tr>\n",
       "      <th>4</th>\n",
       "      <td>Oakland Athletics</td>\n",
       "      <td>OAK</td>\n",
       "      <td>1989</td>\n",
       "      <td>Y</td>\n",
       "      <td>162</td>\n",
       "      <td>99</td>\n",
       "      <td>63</td>\n",
       "      <td>712</td>\n",
       "      <td>5416</td>\n",
       "      <td>1414</td>\n",
       "      <td>...</td>\n",
       "      <td>25</td>\n",
       "      <td>127</td>\n",
       "      <td>562</td>\n",
       "      <td>855.0</td>\n",
       "      <td>157.0</td>\n",
       "      <td>497</td>\n",
       "      <td>3.09</td>\n",
       "      <td>17</td>\n",
       "      <td>129</td>\n",
       "      <td>15613070</td>\n",
       "    </tr>\n",
       "  </tbody>\n",
       "</table>\n",
       "<p>5 rows × 21 columns</p>\n",
       "</div>"
      ],
      "text/plain": [
       "                  name teamID  yearID WSWin    G    W   L    R    AB     H  \\\n",
       "0   Kansas City Royals    KCA    1985     Y  162   91  71  687  5500  1384   \n",
       "1        New York Mets    NYN    1986     Y  162  108  54  783  5558  1462   \n",
       "2      Minnesota Twins    MIN    1987     Y  162   85  77  786  5441  1422   \n",
       "3  Los Angeles Dodgers    LAN    1988     Y  162   94  67  628  5431  1346   \n",
       "4    Oakland Athletics    OAK    1989     Y  162   99  63  712  5416  1414   \n",
       "\n",
       "   ...  3B   HR   BB     SO     SB   ER   ERA  CG    E    salary  \n",
       "0  ...  49  154  473  840.0  128.0  567  3.49  27  127   9321179  \n",
       "1  ...  31  148  631  968.0  118.0  513  3.11  27  138  15393714  \n",
       "2  ...  35  196  523  898.0  113.0  734  4.63  16   98   6397500  \n",
       "3  ...  25   99  437  947.0  131.0  481  2.96  32  142  16850515  \n",
       "4  ...  25  127  562  855.0  157.0  497  3.09  17  129  15613070  \n",
       "\n",
       "[5 rows x 21 columns]"
      ]
     },
     "execution_count": 8,
     "metadata": {},
     "output_type": "execute_result"
    }
   ],
   "source": [
    "#See World Series Winners Dataframe\n",
    "combined_wswinners_df.head()"
   ]
  },
  {
   "cell_type": "code",
   "execution_count": 9,
   "metadata": {},
   "outputs": [
    {
     "data": {
      "text/html": [
       "<div>\n",
       "<style scoped>\n",
       "    .dataframe tbody tr th:only-of-type {\n",
       "        vertical-align: middle;\n",
       "    }\n",
       "\n",
       "    .dataframe tbody tr th {\n",
       "        vertical-align: top;\n",
       "    }\n",
       "\n",
       "    .dataframe thead th {\n",
       "        text-align: right;\n",
       "    }\n",
       "</style>\n",
       "<table border=\"1\" class=\"dataframe\">\n",
       "  <thead>\n",
       "    <tr style=\"text-align: right;\">\n",
       "      <th></th>\n",
       "      <th>name</th>\n",
       "      <th>teamID</th>\n",
       "      <th>yearID</th>\n",
       "      <th>WSWin</th>\n",
       "      <th>G</th>\n",
       "      <th>W</th>\n",
       "      <th>L</th>\n",
       "      <th>R</th>\n",
       "      <th>AB</th>\n",
       "      <th>H</th>\n",
       "      <th>...</th>\n",
       "      <th>3B</th>\n",
       "      <th>HR</th>\n",
       "      <th>BB</th>\n",
       "      <th>SO</th>\n",
       "      <th>SB</th>\n",
       "      <th>ER</th>\n",
       "      <th>ERA</th>\n",
       "      <th>CG</th>\n",
       "      <th>E</th>\n",
       "      <th>salary</th>\n",
       "    </tr>\n",
       "  </thead>\n",
       "  <tbody>\n",
       "    <tr>\n",
       "      <th>0</th>\n",
       "      <td>Atlanta Braves</td>\n",
       "      <td>ATL</td>\n",
       "      <td>1985</td>\n",
       "      <td>N</td>\n",
       "      <td>162</td>\n",
       "      <td>66</td>\n",
       "      <td>96</td>\n",
       "      <td>632</td>\n",
       "      <td>5526</td>\n",
       "      <td>1359</td>\n",
       "      <td>...</td>\n",
       "      <td>28</td>\n",
       "      <td>126</td>\n",
       "      <td>553</td>\n",
       "      <td>849.0</td>\n",
       "      <td>72.0</td>\n",
       "      <td>678</td>\n",
       "      <td>4.19</td>\n",
       "      <td>9</td>\n",
       "      <td>159</td>\n",
       "      <td>14807000</td>\n",
       "    </tr>\n",
       "    <tr>\n",
       "      <th>1</th>\n",
       "      <td>Baltimore Orioles</td>\n",
       "      <td>BAL</td>\n",
       "      <td>1985</td>\n",
       "      <td>N</td>\n",
       "      <td>161</td>\n",
       "      <td>83</td>\n",
       "      <td>78</td>\n",
       "      <td>818</td>\n",
       "      <td>5517</td>\n",
       "      <td>1451</td>\n",
       "      <td>...</td>\n",
       "      <td>22</td>\n",
       "      <td>214</td>\n",
       "      <td>604</td>\n",
       "      <td>908.0</td>\n",
       "      <td>69.0</td>\n",
       "      <td>694</td>\n",
       "      <td>4.38</td>\n",
       "      <td>32</td>\n",
       "      <td>115</td>\n",
       "      <td>11560712</td>\n",
       "    </tr>\n",
       "    <tr>\n",
       "      <th>2</th>\n",
       "      <td>Boston Red Sox</td>\n",
       "      <td>BOS</td>\n",
       "      <td>1985</td>\n",
       "      <td>N</td>\n",
       "      <td>163</td>\n",
       "      <td>81</td>\n",
       "      <td>81</td>\n",
       "      <td>800</td>\n",
       "      <td>5720</td>\n",
       "      <td>1615</td>\n",
       "      <td>...</td>\n",
       "      <td>31</td>\n",
       "      <td>162</td>\n",
       "      <td>562</td>\n",
       "      <td>816.0</td>\n",
       "      <td>66.0</td>\n",
       "      <td>659</td>\n",
       "      <td>4.06</td>\n",
       "      <td>35</td>\n",
       "      <td>145</td>\n",
       "      <td>10897560</td>\n",
       "    </tr>\n",
       "    <tr>\n",
       "      <th>3</th>\n",
       "      <td>California Angels</td>\n",
       "      <td>CAL</td>\n",
       "      <td>1985</td>\n",
       "      <td>N</td>\n",
       "      <td>162</td>\n",
       "      <td>90</td>\n",
       "      <td>72</td>\n",
       "      <td>732</td>\n",
       "      <td>5442</td>\n",
       "      <td>1364</td>\n",
       "      <td>...</td>\n",
       "      <td>31</td>\n",
       "      <td>153</td>\n",
       "      <td>648</td>\n",
       "      <td>902.0</td>\n",
       "      <td>106.0</td>\n",
       "      <td>633</td>\n",
       "      <td>3.91</td>\n",
       "      <td>22</td>\n",
       "      <td>112</td>\n",
       "      <td>14427894</td>\n",
       "    </tr>\n",
       "    <tr>\n",
       "      <th>4</th>\n",
       "      <td>Chicago White Sox</td>\n",
       "      <td>CHA</td>\n",
       "      <td>1985</td>\n",
       "      <td>N</td>\n",
       "      <td>163</td>\n",
       "      <td>85</td>\n",
       "      <td>77</td>\n",
       "      <td>736</td>\n",
       "      <td>5470</td>\n",
       "      <td>1386</td>\n",
       "      <td>...</td>\n",
       "      <td>37</td>\n",
       "      <td>146</td>\n",
       "      <td>471</td>\n",
       "      <td>843.0</td>\n",
       "      <td>108.0</td>\n",
       "      <td>656</td>\n",
       "      <td>4.07</td>\n",
       "      <td>20</td>\n",
       "      <td>111</td>\n",
       "      <td>9846178</td>\n",
       "    </tr>\n",
       "  </tbody>\n",
       "</table>\n",
       "<p>5 rows × 21 columns</p>\n",
       "</div>"
      ],
      "text/plain": [
       "                name teamID  yearID WSWin    G   W   L    R    AB     H  ...  \\\n",
       "0     Atlanta Braves    ATL    1985     N  162  66  96  632  5526  1359  ...   \n",
       "1  Baltimore Orioles    BAL    1985     N  161  83  78  818  5517  1451  ...   \n",
       "2     Boston Red Sox    BOS    1985     N  163  81  81  800  5720  1615  ...   \n",
       "3  California Angels    CAL    1985     N  162  90  72  732  5442  1364  ...   \n",
       "4  Chicago White Sox    CHA    1985     N  163  85  77  736  5470  1386  ...   \n",
       "\n",
       "   3B   HR   BB     SO     SB   ER   ERA  CG    E    salary  \n",
       "0  28  126  553  849.0   72.0  678  4.19   9  159  14807000  \n",
       "1  22  214  604  908.0   69.0  694  4.38  32  115  11560712  \n",
       "2  31  162  562  816.0   66.0  659  4.06  35  145  10897560  \n",
       "3  31  153  648  902.0  106.0  633  3.91  22  112  14427894  \n",
       "4  37  146  471  843.0  108.0  656  4.07  20  111   9846178  \n",
       "\n",
       "[5 rows x 21 columns]"
      ]
     },
     "execution_count": 9,
     "metadata": {},
     "output_type": "execute_result"
    }
   ],
   "source": [
    "#See World Series Losers Dataframe\n",
    "combined_wslosers_df.head()"
   ]
  },
  {
   "cell_type": "markdown",
   "metadata": {},
   "source": [
    "## Question 1 - How does the spending of each champion compare to the rest of the league?"
   ]
  },
  {
   "cell_type": "markdown",
   "metadata": {},
   "source": [
    "Objective 1 - Collect the salary spent for the world series champions by year and Graph!"
   ]
  },
  {
   "cell_type": "code",
   "execution_count": 10,
   "metadata": {},
   "outputs": [
    {
     "data": {
      "text/plain": [
       "Text(0, 0.5, 'Salary Spent ($)')"
      ]
     },
     "execution_count": 10,
     "metadata": {},
     "output_type": "execute_result"
    },
    {
     "data": {
      "image/png": "[encoded data removed]",
      "text/plain": [
       "<Figure size 432x288 with 1 Axes>"
      ]
     },
     "metadata": {
      "needs_background": "light"
     },
     "output_type": "display_data"
    }
   ],
   "source": [
    "#World Series Winners - Salary Spent Bar Chart\n",
    "plt.bar(combined_wswinners_df['yearID'],combined_wswinners_df['salary'])\n",
    "plt.title(\"World Series Winners Salary Spent\")\n",
    "plt.xlabel(\"Year\")\n",
    "plt.ylabel(\"Salary Spent ($)\")"
   ]
  },
  {
   "cell_type": "markdown",
   "metadata": {},
   "source": [
    "Objective 2 - Collect the average salary spent for the losers by year"
   ]
  },
  {
   "cell_type": "code",
   "execution_count": 11,
   "metadata": {},
   "outputs": [
    {
     "data": {
      "text/plain": [
       "Text(0, 0.5, 'Salary Spent ($)')"
      ]
     },
     "execution_count": 11,
     "metadata": {},
     "output_type": "execute_result"
    },
    {
     "data": {
      "image/png": "[encoded data removed]",
      "text/plain": [
       "<Figure size 432x288 with 1 Axes>"
      ]
     },
     "metadata": {
      "needs_background": "light"
     },
     "output_type": "display_data"
    }
   ],
   "source": [
    "#World Series Losers - Average Salary Spent Dataframe\n",
    "losers_salary_df = combined_wslosers_df.groupby(['yearID'])[['salary']].mean().reset_index()\n",
    "plt.bar(losers_salary_df['yearID'], losers_salary_df['salary'])\n",
    "plt.title(\"World Series Losers Average Salary Spent\")\n",
    "plt.xlabel(\"Year\")\n",
    "plt.ylabel(\"Salary Spent ($)\")"
   ]
  },
  {
   "cell_type": "markdown",
   "metadata": {},
   "source": [
    "Objective 3 - Summary DF and Graph comparing objective 1 and objective 2"
   ]
  },
  {
   "cell_type": "code",
   "execution_count": 12,
   "metadata": {},
   "outputs": [
    {
     "data": {
      "image/png": "[encoded data removed]",
      "text/plain": [
       "<Figure size 432x288 with 1 Axes>"
      ]
     },
     "metadata": {
      "needs_background": "light"
     },
     "output_type": "display_data"
    }
   ],
   "source": [
    "#Get average Salary Spent per year for League Losers\n",
    "avg_salary_losers = combined_wslosers_df.groupby(by=['yearID'])['salary'].mean()\n",
    "avg_salary_losers_df = pd.DataFrame(avg_salary_losers)\n",
    "\n",
    "#Plot the Winning Teams Salary Spent against the Loser Teams Average Salary Spent (On Annual Basis)\n",
    "plt.plot(combined_wswinners_df[\"yearID\"], combined_wswinners_df[\"salary\"], color=\"green\")\n",
    "plt.plot(combined_wswinners_df[\"yearID\"], avg_salary_losers_df[\"salary\"], color=\"red\")\n",
    "plt.title(\"Salary Spent: Winners vs. Losers\")\n",
    "plt.xlabel(\"Year\")\n",
    "plt.ylabel(\"Salary Spent ($)\")\n",
    "plt.show()"
   ]
  },
  {
   "cell_type": "markdown",
   "metadata": {},
   "source": [
    "## Question 2 - What are the guiding parameters for salary spent for winning teams?"
   ]
  },
  {
   "cell_type": "markdown",
   "metadata": {},
   "source": [
    "Objective 1 - Find the mean and STD for the salaries per year for the entire league"
   ]
  },
  {
   "cell_type": "code",
   "execution_count": 13,
   "metadata": {},
   "outputs": [
    {
     "data": {
      "text/html": [
       "<div>\n",
       "<style scoped>\n",
       "    .dataframe tbody tr th:only-of-type {\n",
       "        vertical-align: middle;\n",
       "    }\n",
       "\n",
       "    .dataframe tbody tr th {\n",
       "        vertical-align: top;\n",
       "    }\n",
       "\n",
       "    .dataframe thead th {\n",
       "        text-align: right;\n",
       "    }\n",
       "</style>\n",
       "<table border=\"1\" class=\"dataframe\">\n",
       "  <thead>\n",
       "    <tr style=\"text-align: right;\">\n",
       "      <th></th>\n",
       "      <th>yearID</th>\n",
       "      <th>Mean Salary</th>\n",
       "    </tr>\n",
       "  </thead>\n",
       "  <tbody>\n",
       "    <tr>\n",
       "      <th>0</th>\n",
       "      <td>1985</td>\n",
       "      <td>1.007557e+07</td>\n",
       "    </tr>\n",
       "    <tr>\n",
       "      <th>1</th>\n",
       "      <td>1986</td>\n",
       "      <td>1.184056e+07</td>\n",
       "    </tr>\n",
       "    <tr>\n",
       "      <th>2</th>\n",
       "      <td>1987</td>\n",
       "      <td>1.048367e+07</td>\n",
       "    </tr>\n",
       "    <tr>\n",
       "      <th>3</th>\n",
       "      <td>1988</td>\n",
       "      <td>1.155586e+07</td>\n",
       "    </tr>\n",
       "    <tr>\n",
       "      <th>4</th>\n",
       "      <td>1989</td>\n",
       "      <td>1.384599e+07</td>\n",
       "    </tr>\n",
       "  </tbody>\n",
       "</table>\n",
       "</div>"
      ],
      "text/plain": [
       "   yearID   Mean Salary\n",
       "0    1985  1.007557e+07\n",
       "1    1986  1.184056e+07\n",
       "2    1987  1.048367e+07\n",
       "3    1988  1.155586e+07\n",
       "4    1989  1.384599e+07"
      ]
     },
     "execution_count": 13,
     "metadata": {},
     "output_type": "execute_result"
    }
   ],
   "source": [
    "#Get the mean salary spent for entire league\n",
    "salary_mean = combined_allteams_df.groupby(by=['yearID'])[['salary']].mean()\n",
    "salary_mean = salary_mean.reset_index()\n",
    "salary_mean = salary_mean.rename(columns={\"salary\": \"Mean Salary\"})\n",
    "salary_mean.head()"
   ]
  },
  {
   "cell_type": "code",
   "execution_count": 14,
   "metadata": {},
   "outputs": [
    {
     "data": {
      "text/html": [
       "<div>\n",
       "<style scoped>\n",
       "    .dataframe tbody tr th:only-of-type {\n",
       "        vertical-align: middle;\n",
       "    }\n",
       "\n",
       "    .dataframe tbody tr th {\n",
       "        vertical-align: top;\n",
       "    }\n",
       "\n",
       "    .dataframe thead th {\n",
       "        text-align: right;\n",
       "    }\n",
       "</style>\n",
       "<table border=\"1\" class=\"dataframe\">\n",
       "  <thead>\n",
       "    <tr style=\"text-align: right;\">\n",
       "      <th></th>\n",
       "      <th>yearID</th>\n",
       "      <th>STD Salary</th>\n",
       "    </tr>\n",
       "  </thead>\n",
       "  <tbody>\n",
       "    <tr>\n",
       "      <th>0</th>\n",
       "      <td>1985</td>\n",
       "      <td>2.470845e+06</td>\n",
       "    </tr>\n",
       "    <tr>\n",
       "      <th>1</th>\n",
       "      <td>1986</td>\n",
       "      <td>3.186956e+06</td>\n",
       "    </tr>\n",
       "    <tr>\n",
       "      <th>2</th>\n",
       "      <td>1987</td>\n",
       "      <td>3.848337e+06</td>\n",
       "    </tr>\n",
       "    <tr>\n",
       "      <th>3</th>\n",
       "      <td>1988</td>\n",
       "      <td>3.386331e+06</td>\n",
       "    </tr>\n",
       "    <tr>\n",
       "      <th>4</th>\n",
       "      <td>1989</td>\n",
       "      <td>3.568844e+06</td>\n",
       "    </tr>\n",
       "  </tbody>\n",
       "</table>\n",
       "</div>"
      ],
      "text/plain": [
       "   yearID    STD Salary\n",
       "0    1985  2.470845e+06\n",
       "1    1986  3.186956e+06\n",
       "2    1987  3.848337e+06\n",
       "3    1988  3.386331e+06\n",
       "4    1989  3.568844e+06"
      ]
     },
     "execution_count": 14,
     "metadata": {},
     "output_type": "execute_result"
    }
   ],
   "source": [
    "salary_std = combined_allteams_df.groupby(by=['yearID'])[['salary']].std()\n",
    "salary_std = salary_std.reset_index()\n",
    "salary_std = salary_std.rename(columns={\"salary\": \"STD Salary\"})\n",
    "salary_std.head()"
   ]
  },
  {
   "cell_type": "code",
   "execution_count": 26,
   "metadata": {},
   "outputs": [
    {
     "data": {
      "text/plain": [
       "Text(0, 0.5, 'Salary Amount')"
      ]
     },
     "execution_count": 26,
     "metadata": {},
     "output_type": "execute_result"
    },
    {
     "data": {
      "image/png": "[encoded data removed]",
      "text/plain": [
       "<Figure size 432x288 with 1 Axes>"
      ]
     },
     "metadata": {
      "needs_background": "light"
     },
     "output_type": "display_data"
    }
   ],
   "source": [
    "plt.bar(salary_mean['yearID'], salary_mean['Mean Salary'])\n",
    "plt.title(\"Salary Mean per Year\",fontsize = 20)\n",
    "plt.xlabel(\"Year\",fontsize = 14)\n",
    "plt.ylabel(\"Salary Amount\",fontsize = 14)"
   ]
  },
  {
   "cell_type": "code",
   "execution_count": 27,
   "metadata": {},
   "outputs": [
    {
     "data": {
      "text/plain": [
       "Text(0, 0.5, 'Salary Amount')"
      ]
     },
     "execution_count": 27,
     "metadata": {},
     "output_type": "execute_result"
    },
    {
     "data": {
      "image/png": "[encoded data removed]",
      "text/plain": [
       "<Figure size 432x288 with 1 Axes>"
      ]
     },
     "metadata": {
      "needs_background": "light"
     },
     "output_type": "display_data"
    }
   ],
   "source": [
    "plt.bar(salary_std['yearID'], salary_std['STD Salary'])\n",
    "plt.title(\"Salary STD per Year\",fontsize = 20)\n",
    "plt.xlabel(\"Year\",fontsize = 14)\n",
    "plt.ylabel(\"Salary Amount\",fontsize = 14)"
   ]
  },
  {
   "cell_type": "markdown",
   "metadata": {},
   "source": [
    "Objective 2 - Calculate the number of STD's the winning salary deviates from the mean by year"
   ]
  },
  {
   "cell_type": "code",
   "execution_count": 28,
   "metadata": {},
   "outputs": [
    {
     "data": {
      "text/html": [
       "<div>\n",
       "<style scoped>\n",
       "    .dataframe tbody tr th:only-of-type {\n",
       "        vertical-align: middle;\n",
       "    }\n",
       "\n",
       "    .dataframe tbody tr th {\n",
       "        vertical-align: top;\n",
       "    }\n",
       "\n",
       "    .dataframe thead th {\n",
       "        text-align: right;\n",
       "    }\n",
       "</style>\n",
       "<table border=\"1\" class=\"dataframe\">\n",
       "  <thead>\n",
       "    <tr style=\"text-align: right;\">\n",
       "      <th></th>\n",
       "      <th>yearID</th>\n",
       "      <th>Mean Salary</th>\n",
       "      <th>STD Salary</th>\n",
       "    </tr>\n",
       "  </thead>\n",
       "  <tbody>\n",
       "    <tr>\n",
       "      <th>0</th>\n",
       "      <td>1985</td>\n",
       "      <td>1.007557e+07</td>\n",
       "      <td>2.470845e+06</td>\n",
       "    </tr>\n",
       "    <tr>\n",
       "      <th>1</th>\n",
       "      <td>1986</td>\n",
       "      <td>1.184056e+07</td>\n",
       "      <td>3.186956e+06</td>\n",
       "    </tr>\n",
       "    <tr>\n",
       "      <th>2</th>\n",
       "      <td>1987</td>\n",
       "      <td>1.048367e+07</td>\n",
       "      <td>3.848337e+06</td>\n",
       "    </tr>\n",
       "    <tr>\n",
       "      <th>3</th>\n",
       "      <td>1988</td>\n",
       "      <td>1.155586e+07</td>\n",
       "      <td>3.386331e+06</td>\n",
       "    </tr>\n",
       "    <tr>\n",
       "      <th>4</th>\n",
       "      <td>1989</td>\n",
       "      <td>1.384599e+07</td>\n",
       "      <td>3.568844e+06</td>\n",
       "    </tr>\n",
       "  </tbody>\n",
       "</table>\n",
       "</div>"
      ],
      "text/plain": [
       "   yearID   Mean Salary    STD Salary\n",
       "0    1985  1.007557e+07  2.470845e+06\n",
       "1    1986  1.184056e+07  3.186956e+06\n",
       "2    1987  1.048367e+07  3.848337e+06\n",
       "3    1988  1.155586e+07  3.386331e+06\n",
       "4    1989  1.384599e+07  3.568844e+06"
      ]
     },
     "execution_count": 28,
     "metadata": {},
     "output_type": "execute_result"
    }
   ],
   "source": [
    "#Merge Mean Salary and Standard Deviation Salary Together\n",
    "combined_mean_std = pd.merge(salary_mean, salary_std, on=[\"yearID\"])\n",
    "combined_mean_std.head()"
   ]
  },
  {
   "cell_type": "code",
   "execution_count": 29,
   "metadata": {},
   "outputs": [
    {
     "data": {
      "text/html": [
       "<div>\n",
       "<style scoped>\n",
       "    .dataframe tbody tr th:only-of-type {\n",
       "        vertical-align: middle;\n",
       "    }\n",
       "\n",
       "    .dataframe tbody tr th {\n",
       "        vertical-align: top;\n",
       "    }\n",
       "\n",
       "    .dataframe thead th {\n",
       "        text-align: right;\n",
       "    }\n",
       "</style>\n",
       "<table border=\"1\" class=\"dataframe\">\n",
       "  <thead>\n",
       "    <tr style=\"text-align: right;\">\n",
       "      <th></th>\n",
       "      <th>yearID</th>\n",
       "      <th>Mean Salary</th>\n",
       "      <th>STD Salary</th>\n",
       "      <th>salary</th>\n",
       "    </tr>\n",
       "  </thead>\n",
       "  <tbody>\n",
       "    <tr>\n",
       "      <th>0</th>\n",
       "      <td>1985</td>\n",
       "      <td>1.007557e+07</td>\n",
       "      <td>2.470845e+06</td>\n",
       "      <td>9321179</td>\n",
       "    </tr>\n",
       "    <tr>\n",
       "      <th>1</th>\n",
       "      <td>1986</td>\n",
       "      <td>1.184056e+07</td>\n",
       "      <td>3.186956e+06</td>\n",
       "      <td>15393714</td>\n",
       "    </tr>\n",
       "    <tr>\n",
       "      <th>2</th>\n",
       "      <td>1987</td>\n",
       "      <td>1.048367e+07</td>\n",
       "      <td>3.848337e+06</td>\n",
       "      <td>6397500</td>\n",
       "    </tr>\n",
       "    <tr>\n",
       "      <th>3</th>\n",
       "      <td>1988</td>\n",
       "      <td>1.155586e+07</td>\n",
       "      <td>3.386331e+06</td>\n",
       "      <td>16850515</td>\n",
       "    </tr>\n",
       "    <tr>\n",
       "      <th>4</th>\n",
       "      <td>1989</td>\n",
       "      <td>1.384599e+07</td>\n",
       "      <td>3.568844e+06</td>\n",
       "      <td>15613070</td>\n",
       "    </tr>\n",
       "  </tbody>\n",
       "</table>\n",
       "</div>"
      ],
      "text/plain": [
       "   yearID   Mean Salary    STD Salary    salary\n",
       "0    1985  1.007557e+07  2.470845e+06   9321179\n",
       "1    1986  1.184056e+07  3.186956e+06  15393714\n",
       "2    1987  1.048367e+07  3.848337e+06   6397500\n",
       "3    1988  1.155586e+07  3.386331e+06  16850515\n",
       "4    1989  1.384599e+07  3.568844e+06  15613070"
      ]
     },
     "execution_count": 29,
     "metadata": {},
     "output_type": "execute_result"
    }
   ],
   "source": [
    "#Merge combined_mean_std dataframe with world series winners dataframe\n",
    "big_df = pd.merge(combined_mean_std, combined_wswinners_df, on=[\"yearID\"])\n",
    "big_df = big_df[[\"yearID\", \"Mean Salary\", \"STD Salary\", \"salary\"]]\n",
    "big_df.head()"
   ]
  },
  {
   "cell_type": "code",
   "execution_count": 30,
   "metadata": {},
   "outputs": [
    {
     "data": {
      "text/html": [
       "<div>\n",
       "<style scoped>\n",
       "    .dataframe tbody tr th:only-of-type {\n",
       "        vertical-align: middle;\n",
       "    }\n",
       "\n",
       "    .dataframe tbody tr th {\n",
       "        vertical-align: top;\n",
       "    }\n",
       "\n",
       "    .dataframe thead th {\n",
       "        text-align: right;\n",
       "    }\n",
       "</style>\n",
       "<table border=\"1\" class=\"dataframe\">\n",
       "  <thead>\n",
       "    <tr style=\"text-align: right;\">\n",
       "      <th></th>\n",
       "      <th>yearID</th>\n",
       "      <th>Mean Salary</th>\n",
       "      <th>STD Salary</th>\n",
       "      <th>salary</th>\n",
       "      <th>STD's from Mean</th>\n",
       "    </tr>\n",
       "  </thead>\n",
       "  <tbody>\n",
       "    <tr>\n",
       "      <th>0</th>\n",
       "      <td>1985</td>\n",
       "      <td>1.007557e+07</td>\n",
       "      <td>2.470845e+06</td>\n",
       "      <td>9321179</td>\n",
       "      <td>-0.305315</td>\n",
       "    </tr>\n",
       "    <tr>\n",
       "      <th>1</th>\n",
       "      <td>1986</td>\n",
       "      <td>1.184056e+07</td>\n",
       "      <td>3.186956e+06</td>\n",
       "      <td>15393714</td>\n",
       "      <td>1.114906</td>\n",
       "    </tr>\n",
       "    <tr>\n",
       "      <th>2</th>\n",
       "      <td>1987</td>\n",
       "      <td>1.048367e+07</td>\n",
       "      <td>3.848337e+06</td>\n",
       "      <td>6397500</td>\n",
       "      <td>-1.061801</td>\n",
       "    </tr>\n",
       "    <tr>\n",
       "      <th>3</th>\n",
       "      <td>1988</td>\n",
       "      <td>1.155586e+07</td>\n",
       "      <td>3.386331e+06</td>\n",
       "      <td>16850515</td>\n",
       "      <td>1.563537</td>\n",
       "    </tr>\n",
       "    <tr>\n",
       "      <th>4</th>\n",
       "      <td>1989</td>\n",
       "      <td>1.384599e+07</td>\n",
       "      <td>3.568844e+06</td>\n",
       "      <td>15613070</td>\n",
       "      <td>0.495141</td>\n",
       "    </tr>\n",
       "  </tbody>\n",
       "</table>\n",
       "</div>"
      ],
      "text/plain": [
       "   yearID   Mean Salary    STD Salary    salary  STD's from Mean\n",
       "0    1985  1.007557e+07  2.470845e+06   9321179        -0.305315\n",
       "1    1986  1.184056e+07  3.186956e+06  15393714         1.114906\n",
       "2    1987  1.048367e+07  3.848337e+06   6397500        -1.061801\n",
       "3    1988  1.155586e+07  3.386331e+06  16850515         1.563537\n",
       "4    1989  1.384599e+07  3.568844e+06  15613070         0.495141"
      ]
     },
     "execution_count": 30,
     "metadata": {},
     "output_type": "execute_result"
    }
   ],
   "source": [
    "#Find STD's Away from mean\n",
    "big_df[\"STD's from Mean\"] = (big_df[\"salary\"] - big_df[\"Mean Salary\"]) / big_df[\"STD Salary\"]\n",
    "big_df.head()"
   ]
  },
  {
   "cell_type": "code",
   "execution_count": 35,
   "metadata": {},
   "outputs": [
    {
     "data": {
      "text/plain": [
       "Text(0, 0.5, \"STD's from Mean\")"
      ]
     },
     "execution_count": 35,
     "metadata": {},
     "output_type": "execute_result"
    },
    {
     "data": {
      "image/png": "[encoded data removed]",
      "text/plain": [
       "<Figure size 1440x216 with 1 Axes>"
      ]
     },
     "metadata": {
      "needs_background": "light"
     },
     "output_type": "display_data"
    }
   ],
   "source": [
    "#Boxplot Your Answer\n",
    "\n",
    "#Set X-Axis and Tick Locations\n",
    "x_axis = np.arange(len(big_df))\n",
    "tick_locations = [value+0.4 for value in x_axis]\n",
    "\n",
    "#Create List where to write x labels, and input titles\n",
    "plt.figure(figsize=(20,3))\n",
    "plt.bar(x_axis, big_df[\"STD's from Mean\"], color='r', alpha=0.5, align=\"edge\")\n",
    "plt.xticks(tick_locations, big_df[\"yearID\"], rotation=\"vertical\")\n",
    "plt.title(\"World Series Winners - STD's from Mean Salary By Year\")\n",
    "plt.xlabel(\"Year\")\n",
    "plt.ylabel(\"STD's from Mean\")"
   ]
  },
  {
   "cell_type": "markdown",
   "metadata": {},
   "source": [
    "Objective 3 - Summary DF and Graph Objective 2"
   ]
  },
  {
   "cell_type": "markdown",
   "metadata": {},
   "source": [
    "## Question 4 - Jared Work"
   ]
  },
  {
   "cell_type": "code",
   "execution_count": 23,
   "metadata": {},
   "outputs": [
    {
     "data": {
      "text/plain": [
       "<matplotlib.axes._subplots.AxesSubplot at 0x19f81bdf760>"
      ]
     },
     "execution_count": 23,
     "metadata": {},
     "output_type": "execute_result"
    },
    {
     "data": {
      "image/png": "[encoded data removed]",
      "text/plain": [
       "<Figure size 1440x360 with 1 Axes>"
      ]
     },
     "metadata": {
      "needs_background": "light"
     },
     "output_type": "display_data"
    }
   ],
   "source": [
    "HR_plot = combined_wswinners_df.plot(kind=\"scatter\", x=\"name\", y=\"HR\", grid=True, figsize=(20,5), title=\"Home Runs by WS Winners\",\n",
    "                          color=\"Blue\")\n",
    "plt.xticks(rotation=90)\n",
    "HR_plot"
   ]
  },
  {
   "cell_type": "code",
   "execution_count": 24,
   "metadata": {},
   "outputs": [
    {
     "data": {
      "text/plain": [
       "<matplotlib.axes._subplots.AxesSubplot at 0x19f818d1b80>"
      ]
     },
     "execution_count": 24,
     "metadata": {},
     "output_type": "execute_result"
    },
    {
     "data": {
      "image/png": "[encoded data removed]",
      "text/plain": [
       "<Figure size 1440x360 with 1 Axes>"
      ]
     },
     "metadata": {
      "needs_background": "light"
     },
     "output_type": "display_data"
    }
   ],
   "source": [
    "Hits_plot = combined_wswinners_df.plot(kind=\"scatter\", x=\"name\", y=\"H\", grid=True, figsize=(20,5), title=\"Runs Scored by WS Winners\",\n",
    "                          color=\"Blue\")\n",
    "plt.xticks(rotation=90)\n",
    "Hits_plot"
   ]
  },
  {
   "cell_type": "code",
   "execution_count": 25,
   "metadata": {},
   "outputs": [
    {
     "data": {
      "text/plain": [
       "<matplotlib.axes._subplots.AxesSubplot at 0x19f81cdbc40>"
      ]
     },
     "execution_count": 25,
     "metadata": {},
     "output_type": "execute_result"
    },
    {
     "data": {
      "image/png": "[encoded data removed]",
      "text/plain": [
       "<Figure size 1440x360 with 1 Axes>"
      ]
     },
     "metadata": {
      "needs_background": "light"
     },
     "output_type": "display_data"
    }
   ],
   "source": [
    "Runs_plot = combined_wswinners_df.plot(kind=\"scatter\", x=\"name\", y=\"R\", grid=True, figsize=(20,5), title=\"Runs Scored by WS Winners\",\n",
    "                          color=\"Blue\")\n",
    "plt.xticks(rotation=90)\n",
    "Runs_plot"
   ]
  }
 ],
 "metadata": {
  "kernelspec": {
   "display_name": "Python 3",
   "language": "python",
   "name": "python3"
  },
  "language_info": {
   "codemirror_mode": {
    "name": "ipython",
    "version": 3
   },
   "file_extension": ".py",
   "mimetype": "text/x-python",
   "name": "python",
   "nbconvert_exporter": "python",
   "pygments_lexer": "ipython3",
   "version": "3.8.3"
  }
 },
 "nbformat": 4,
 "nbformat_minor": 4
}
